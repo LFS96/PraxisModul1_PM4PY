{
 "cells": [
  {
   "cell_type": "markdown",
   "metadata": {
    "pycharm": {
     "name": "#%% md\n"
    }
   },
   "source": [
    "[Markdown Guide](https://docs.gitlab.com/ee/user/markdown.html)"
   ]
  },
  {
   "cell_type": "markdown",
   "metadata": {
    "pycharm": {
     "name": "#%% md\n"
    }
   },
   "source": [
    "# Praxismodul I\n",
    "## Thema 6: Process Organisation\n",
    "## Hochschule Mainz\n",
    "## Wirtschaftsinformatik dual B.Sc., Fachsemester 4\n",
    "\n",
    "Diese Arbeit wurde von folgenden Studenten durchgeführt:\n",
    "\n",
    "| Student | Matrikel-Nummer |\n",
    "|:-- |:--|\n",
    "|Fabian Harmsen| 943611|\n",
    "|Till Waller   | 943565|\n",
    "|Moritz Wetzel | 943566|\n",
    "Tabelle 1: Studenten der durchgeführten Arbeit"
   ]
  },
  {
   "cell_type": "markdown",
   "metadata": {
    "pycharm": {
     "name": "#%% md\n"
    }
   },
   "source": [
    "## Gliederung\n",
    "\n",
    "1. Projektziel\n",
    "2. Soziale Netzwerke\n",
    "3. Erklärungen zu den grafischen Ergebnissen\n",
    "4. Configuration\n",
    "5. Import\n",
    "6. Similar Activities\n",
    "7. Discover Roles\n",
    "8. Handover Of Work\n",
    "9. Clustering Similar Activities\n",
    "10. Clustering Working together\n",
    "11. Fazit"
   ]
  },
  {
   "cell_type": "markdown",
   "metadata": {
    "pycharm": {
     "name": "#%% md\n"
    }
   },
   "source": [
    "## 1. Projektziel\n",
    "\n",
    "Im Rahmen dieser Projektarbeit wird die Prozessorganisation eines zur Verfügung gestellten Datensatzes untersucht. Die uns zur Verfügung gestellte Logdatei stammt aus der BPI-Challenge 2017 und bestehen aus 2 Geschäftsprozessen. Unser Projektziel wird daraus bestehen, soziale Netzwerke innerhalb eines gewünschten Datensatzes zu entdecken. Hierfür werden die Daten mit Methoden der sozialen Netzwerkanalyse untersucht, um die sozialen Verbindungen im importierten Datensatz zu untersuchen und auszuwerten. Die Ergebnisse werden mithilfe eines Jupyter-Notebooks berechnet und visuell dargestellt. Zum Ende des Projekts werden zwei weitere Datensätze mit den implementierten Analysen untersucht, um die Funktionalität der Methodik zu validieren."
   ]
  },
  {
   "cell_type": "markdown",
   "metadata": {
    "pycharm": {
     "name": "#%% md\n"
    }
   },
   "source": [
    "## 2 Soziale Netzwerke\n",
    "\n",
    "Der Begriff `Soziales Netzwerk` bestimmt sich durch die Interaktion und Kommunikation zwischen mehreren realen Personen in einem privaten oder öffentlichen Umfeld. Im Rahmen unseres Projektes werden dabei ausschließliche `Soziale Netzwerke` im Unternehmensumfeld betrachtet.\n",
    "\n",
    "Bei der Analyse der Personengruppe zeichnen sich Schlüsselpersonen ab, die die verschiedenen Personengruppen im `Sozialen Netzwerk` zusammenhalten. Diese Analysen sind für Unternehmen besonders hilfreich, da sich neben der Unternehmensorganisation im Organigramm die reale Struktur eines Unternehmens erkennen lässt."
   ]
  },
  {
   "cell_type": "markdown",
   "metadata": {
    "pycharm": {
     "name": "#%% md\n"
    }
   },
   "source": [
    "## 3. Erklärung zu den grafischen Ergebnissen\n",
    "\n",
    "Dieser Abschnitt erklärt die grafischen Ergebnisse unabhängig von angewandten Methoden beziehungsweise Analysen. Die Ausgaben setzen sich aus Nodes (Knoten) und Edges (Verbindungen) zusammen. Ein Node stellt im Rahmen unserer Arbeit einen Nutzer dar. Nach dem Clustering stellt ein Node eine Benutzergruppe dar. Die Benutzer beziehungsweise Benutzergruppen sind unterschiedlich stark über Edges miteinander verbunden. Die Stärke dieser Verbindung wird über Analysen festgestellt.\n",
    "\n",
    "Aus Nodes und Edges werden Physiksimulationen erstellt, welche den visuellen Darstellungen der Methodenergebnisse dienen. Die Edges wirken wie Gummibänder, die die Nodes zusammenhalten. Die Nodes hingegen versuchen möglichst viel Abstand zu anderen Nodes zu gewinnen. Dies führt dazu, dass Nodes, die aufgrund der Analysen mit starken Edges verbunden sind, sich annähern und weniger stark verbundene Nodes sich voneinander entfernen. Sobald sich die Physiksimulation beruhigt hat, kann man Gruppen von Nodes erkennen sowie die Verbindungen zu anderen Gruppen.\n",
    "\n",
    "Wir bieten zwei Methoden zur Erstellung von grafischen Ausgaben:\n",
    " - `NetworkX` wird direkt im Notebook ausgegeben,\n",
    " - `Pyvis` erzeugt genauere webbasierte Ausgaben.\n",
    "\n",
    "Die `Pyvis`-Analyseergebnisse können als HTML-Datei im Browser geöffnet werden und sind unter \"result/*\" zu finden.\n",
    "\n",
    "*Das Programm erzeugt während beziehungsweise nach dem Clustering keine grafische Ausgabe, da dies bei den getesteten Datensätzen keine neuen Erkenntnisse gebracht hat.*"
   ]
  },
  {
   "cell_type": "markdown",
   "metadata": {
    "pycharm": {
     "name": "#%% md\n"
    }
   },
   "source": [
    "## 4. Configuration\n",
    "\n",
    "Die folgende Tabelle erklärt die Variablen, die im nächsten Code-Block definiert werden können. Die Logdatei muss, um richtig analysiert werden zu können, im XES-Dateiformat vorliegen. Die Datei kann über den FileDialog des Betriebssystems ausgewählt werden.\n",
    "\n",
    "| variable | type | description| default|\n",
    "|:--|:--|:--|:--|\n",
    "|log_path | (path)| path to the XES File|`data/test.xes`|\n",
    "|use_networkx | (bool)| output via NetworkX or Pyvis| `False`|\n",
    "|filter_timeframe | (bool)| filter the timeframe of the traces| `False` |\n",
    "|filter_timeframe_intersecting | (bool)| use intersecting or contained| `False` |\n",
    "|filter_timeframe_start | (dateTime)| start of the Timeframe| `1970-01-01 00:00:00` |\n",
    "|filter_timeframe_end | (dateTime)| end of the Timeframe| `2038-12-31 00:00:00` |\n",
    "|filter_performance| (bool)| filter on Traceperformance| `False` |\n",
    "|filter_performance_min| (int)| minimum seconds of trace actions|`0` |\n",
    "|filter_performance_max |(int)| maximum seconds of trace actions|`360000` |\n",
    "Tabelle 2: Benötigte Konfigurationsvariablen für den Import\n",
    "\n",
    "Die Option `Pyvis` legt die Ergebnisse im Ordner `./result` ab, welcher schreibend Zugriff benötigt."
   ]
  },
  {
   "cell_type": "code",
   "execution_count": null,
   "metadata": {
    "pycharm": {
     "name": "#%%\n"
    }
   },
   "outputs": [],
   "source": [
    "from tkinter import filedialog\n",
    "\n",
    "#log_path = 'data/BPI_Challenge_2019.xes'\n",
    "log_path = filedialog.askopenfilename(initialdir=\"/\",\n",
    "                                      title=\"Select a File\",\n",
    "                                      filetypes=(\n",
    "                                          (\"eXtensible Event Stream\", \"*.xes*\"),\n",
    "                                          (\"all files\", \"*.*\"))\n",
    "                                      )\n",
    "\n",
    "use_networkx = False\n",
    "\n",
    "filter_timeframe = False\n",
    "filter_timeframe_intersecting = False\n",
    "filter_timeframe_start = \"2011-03-09 00:00:00\"\n",
    "filter_timeframe_end = \"2011-03-09 00:00:00\"\n",
    "\n",
    "filter_performance = False\n",
    "filter_performance_min = 0\n",
    "filter_performance_max = 864000"
   ]
  },
  {
   "cell_type": "markdown",
   "metadata": {
    "pycharm": {
     "name": "#%% md\n"
    }
   },
   "source": [
    "## 5. Import\n",
    "Im folgenden Codeblock werden alle Bibliotheken geladen die im laufenden Skript benötigt werden. Wenn die Bibliotheken nicht gefunden werden können, können sie über den Packagemanager pip seperat nachinstalliert werden.\n",
    "\n",
    "**Liste der benötigten Pythonpackete (pip)**\n",
    " - pm4py\n",
    " - shutil\n",
    " - numpy\n",
    " - sklearn\n",
    " - scipy\n",
    " - tkinter\n"
   ]
  },
  {
   "cell_type": "code",
   "execution_count": null,
   "metadata": {
    "pycharm": {
     "name": "#%%\n"
    }
   },
   "outputs": [],
   "source": [
    "import shutil\n",
    "from pm4py.objects.log.importer.xes import importer as xes_importer\n",
    "from pm4py.algo.organizational_mining.sna import algorithm as sna\n",
    "from pm4py.visualization.sna import visualizer as sna_visualizer\n",
    "from pm4py.algo.organizational_mining.roles import algorithm as roles_discovery\n",
    "from pm4py.algo.organizational_mining.sna import util\n",
    "from pm4py.algo.filtering.log.timestamp import timestamp_filter\n",
    "from pm4py.algo.filtering.log.cases import case_filter\n",
    "from pathlib import Path\n",
    "#from tkinter import filedialog (see above)"
   ]
  },
  {
   "cell_type": "markdown",
   "metadata": {
    "pycharm": {
     "name": "#%% md\n"
    }
   },
   "source": [
    "Der Ordner für die webbasierten Exportergebnisse wird in diesem Codeblock erstellt. Wird NetworkX als Ausgabe genutzt, wird dieser Abschnitt übersprungen.\n"
   ]
  },
  {
   "cell_type": "code",
   "execution_count": null,
   "metadata": {
    "pycharm": {
     "name": "#%%\n"
    }
   },
   "outputs": [],
   "source": [
    "if not use_networkx:\n",
    "    Path(\"./result\").mkdir(parents=True, exist_ok=True)"
   ]
  },
  {
   "cell_type": "markdown",
   "metadata": {
    "pycharm": {
     "name": "#%% md\n"
    }
   },
   "source": [
    "Dieser Code-Block lädt den Datensatz und wendet die eingestellten Filter an.\n",
    "Die Einstellungen dazu wurden in Block 3 (Configuration) festgelegt."
   ]
  },
  {
   "cell_type": "code",
   "execution_count": null,
   "metadata": {
    "pycharm": {
     "is_executing": true,
     "name": "#%%\n"
    }
   },
   "outputs": [],
   "source": [
    "log = xes_importer.apply(log_path)\n",
    "\n",
    "if filter_timeframe:\n",
    "    if not filter_timeframe_intersecting:\n",
    "        log = timestamp_filter.filter_traces_contained(log, filter_timeframe_start, filter_timeframe_end)\n",
    "    else:\n",
    "        log = timestamp_filter.filter_traces_intersecting(log, filter_timeframe_start, filter_timeframe_end)\n",
    "\n",
    "if filter_performance:\n",
    "    log = case_filter.filter_case_performance(log, filter_performance_min, filter_performance_max)"
   ]
  },
  {
   "cell_type": "markdown",
   "metadata": {
    "pycharm": {
     "name": "#%% md\n"
    }
   },
   "source": [
    "## 6. Similar Activities\n",
    "\n",
    "In diesem Abschnitt wird die Methode `Similar Activities` auf den zuvor importierten Datensatz angewendet, um zu berechnen, wie sehr sich die Arbeitsabläufe zwischen den Nutzern (Nodes) ähneln (Quelle: https://pm4py.fit.fraunhofer.de/documentation)."
   ]
  },
  {
   "cell_type": "code",
   "execution_count": null,
   "metadata": {
    "pycharm": {
     "is_executing": true,
     "name": "#%%\n"
    }
   },
   "outputs": [],
   "source": [
    "sa_metric = sna.apply(log, variant=sna.Variants.JOINTACTIVITIES_LOG)\n",
    "\n",
    "if use_networkx:\n",
    "    gviz_ja_py = sna_visualizer.apply(sa_metric, variant=sna_visualizer.Variants.NETWORKX)\n",
    "    sna_visualizer.view(gviz_ja_py, variant=sna_visualizer.Variants.NETWORKX)\n",
    "else:\n",
    "    gviz_ja_py = sna_visualizer.apply(sa_metric, variant=sna_visualizer.Variants.PYVIS)\n",
    "    shutil.move(gviz_ja_py, \"result/similar_activities.html\")"
   ]
  },
  {
   "cell_type": "markdown",
   "metadata": {
    "pycharm": {
     "name": "#%% md\n"
    }
   },
   "source": [
    "## 7. Discover Roles\n",
    "\n",
    "In diesem Abschnitt wird die Methode `Discover Roles` auf den zuvor importierten Datensatz angewendet, um die Rollen eines Nutzers (Node) anhand seiner durchgeführten Aktivitäten zu erkennen. Eine Rolle ist dabei ein Satz von Arbeitsaktivitäten im Log, die in ähnlicher Weise von einem Nutzer (Node) oder mehreren Nutzern (Nodes) ausgeführt wird. Zu Beginn der Analyse gehört jede Arbeitsaktivität zu unterschiedlichen Positionen und ist mit einer hohen Anzahl an Urhebern verbunden. Anschließend werden die Rollen entsprechend ihrer Ähnlichkeit der Arbeitsabläufe gruppiert, bis keine weitere Gruppierung mehr möglich ist. (Quelle: https://pm4py.fit.fraunhofer.de/documentation)\n",
    "\n",
    "Folgende Quelle kann helfen, die aufgeführten Rollen zu verstehen und zu erkennen:\n",
    "\n",
    "Burattin, Andrea, Alessandro Sperduti, and Marco Veluscek. “Business models enhancement through discovery of roles.” 2013 IEEE Symposium on Computational Intelligence and Data Mining (CIDM). IEEE, 2013\n",
    "\n",
    "Die Analyseergebnisse werden folgendermaßen ausgegeben:\n",
    "\n",
    "1. Rollenname auf Basis der Aktivitäten\n",
    "2. Benutzer mit der Angabe wie aktiv der Nutzer in der Rolle war\n",
    "3. `Leerzeile`"
   ]
  },
  {
   "cell_type": "code",
   "execution_count": null,
   "metadata": {
    "pycharm": {
     "is_executing": true,
     "name": "#%%\n"
    }
   },
   "outputs": [],
   "source": [
    "roles = roles_discovery.apply(log)\n",
    "\n",
    "for x in roles:\n",
    "    print(x[0])\n",
    "    print(x[1])\n",
    "    print(\"\")"
   ]
  },
  {
   "cell_type": "markdown",
   "metadata": {
    "pycharm": {
     "name": "#%% md\n"
    }
   },
   "source": [
    "## 8. Handover Of Work\n",
    "\n",
    "In diesem Abschnitt wird die Methode `Handover Of Work` auf den zuvor importierten Datensatz angewendet, um zu messen, wie oft ein Nutzer (Node) bei der Ausführung eines Geschäftsprozesses einer anderen Person die Arbeit übergibt.\n",
    "Bei einem Handover übergibt ein Nutzer den Geschäftsvorfall am Ende seiner Aktivität einem anderen Nutzer. Die Stärke der Beziehungen (Edges) ist abhängig von der Anzahl der durchgeführten Handovers. Die Edges zeigen bei `Handover Of Work`-Analysen in die Richtung des Arbeitsflusses.\n",
    "\n",
    " (Quelle: https://pm4py.fit.fraunhofer.de/documentation)\n",
    "\n"
   ]
  },
  {
   "cell_type": "code",
   "execution_count": null,
   "metadata": {
    "pycharm": {
     "is_executing": true,
     "name": "#%%\n"
    }
   },
   "outputs": [],
   "source": [
    "hw_values = sna.apply(log, variant=sna.Variants.HANDOVER_LOG)\n",
    "\n",
    "if use_networkx:\n",
    "    gviz_hw_py = sna_visualizer.apply(hw_values, variant=sna_visualizer.Variants.NETWORKX)\n",
    "    sna_visualizer.view(gviz_hw_py, variant=sna_visualizer.Variants.NETWORKX)\n",
    "else:\n",
    "    gviz_hw_py = sna_visualizer.apply(hw_values, variant=sna_visualizer.Variants.PYVIS)\n",
    "    shutil.move(gviz_hw_py, \"result/handover_of_work.html\")"
   ]
  },
  {
   "cell_type": "markdown",
   "metadata": {
    "pycharm": {
     "name": "#%% md\n"
    }
   },
   "source": [
    "## 9. Clustering Similar Activities\n",
    "\n",
    "In diesem Abschnitt werden die unter 6 analysierten Nutzer in Nutzergruppen zusammengefasst, welche gleiche Aufgaben verrichtet haben. Dies soll die Übersichtlichkeit erhöhen und erste Schlussfolgerungen ermöglichen.\n",
    "\n",
    "Die Analyseergebnisse werden folgendermaßen ausgegeben:\n",
    "\n",
    "1. Cluster\n",
    "2. Benutzerliste\n",
    "3. `Leerzeile`"
   ]
  },
  {
   "cell_type": "code",
   "execution_count": null,
   "metadata": {
    "pycharm": {
     "is_executing": true,
     "name": "#%%\n"
    }
   },
   "outputs": [],
   "source": [
    "clustering_sa = util.cluster_affinity_propagation(sa_metric)\n",
    "\n",
    "for group in clustering_sa:\n",
    "    print(\"Gruppe: \" + group)\n",
    "    print(clustering_sa[group])\n",
    "    print(\"\")\n"
   ]
  },
  {
   "cell_type": "markdown",
   "metadata": {
    "pycharm": {
     "name": "#%% md\n"
    }
   },
   "source": [
    "## 10. Clustering Handover Of Work\n",
    "\n",
    "In diesem Abschnitt werden die unter 8 analysierten Nutzer als Gruppe zusammengefasst, welche häufig miteinander arbeiten. Dies soll die Übersichtlichkeit erhöhen und erste Schlussfolgerungen ermöglichen.\n",
    "\n",
    "Die Analyseergebnisse werden folgendermaßen ausgegeben:\n",
    "\n",
    "1. Cluster\n",
    "2. Benutzerliste\n",
    "3. `Leerzeile`"
   ]
  },
  {
   "cell_type": "code",
   "execution_count": null,
   "metadata": {
    "pycharm": {
     "is_executing": true,
     "name": "#%%\n"
    }
   },
   "outputs": [],
   "source": [
    "clustering_hw = util.cluster_affinity_propagation(hw_values)\n",
    "\n",
    "for group in clustering_hw:\n",
    "    print(\"Gruppe: \" + group)\n",
    "    print(clustering_hw[group])\n",
    "    print(\"\")"
   ]
  },
  {
   "cell_type": "markdown",
   "metadata": {
    "pycharm": {
     "name": "#%% md\n"
    }
   },
   "source": [
    "## 11. Fazit\n",
    "\n",
    "Im Projekt wurden verschiedene Datensätze im `eXtensible Event Stream`-Format ausgewertet. Dabei konnten mehrere Methoden der `Social Network Analysis` (SNA) erfolgreich durchgeführt werden.\n",
    "\n",
    "Anhand der durchgeführten Analysen konnten einerseits Personengruppen erkannt werden, die regelmäßig ähnlich oder gleiche Aktivitäten vollzogen haben. Anderseits konnten Personen ermittelt werden, die wenig bis gar nicht in die `Sozialen Netzwerke` des Unternehmens eingebunden sind.\n",
    "Auffällig war aber, dass es auch Geschäftsprozesse gab, bei denen alle Beteiligten ein großes Team bildeten. In solchen Fällen erzeugen die durchgeführten Analysen kein interpretierbares Ergebnis.\n"
   ]
  },
  {
   "cell_type": "code",
   "execution_count": null,
   "metadata": {
    "pycharm": {
     "is_executing": true,
     "name": "#%%\n"
    }
   },
   "outputs": [],
   "source": [
    "print(\"Das Notebook wurde erfolgreich ausgeführt.\")\n"
   ]
  }
 ],
 "metadata": {
  "kernelspec": {
   "display_name": "Python 3 (ipykernel)",
   "language": "python",
   "name": "python3"
  },
  "language_info": {
   "codemirror_mode": {
    "name": "ipython",
    "version": 3
   },
   "file_extension": ".py",
   "mimetype": "text/x-python",
   "name": "python",
   "nbconvert_exporter": "python",
   "pygments_lexer": "ipython3",
   "version": "3.10.0"
  }
 },
 "nbformat": 4,
 "nbformat_minor": 1
}