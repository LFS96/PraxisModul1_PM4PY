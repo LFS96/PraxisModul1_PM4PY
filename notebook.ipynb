{
 "cells": [
  {
   "cell_type": "markdown",
   "source": [
    "[Markdown Guide](https://docs.gitlab.com/ee/user/markdown.html)"
   ],
   "metadata": {
    "collapsed": false,
    "pycharm": {
     "name": "#%% md\n"
    }
   }
  },
  {
   "cell_type": "markdown",
   "source": [
    "# Praxismodul I\n",
    "## Thema 6: Process Organisation\n",
    "## Hochschule Mainz\n",
    "## Wirtschaftsinformatik dual B.Sc., Fachsemester 4\n",
    "\n",
    "Durchgeführt von\n",
    "\n",
    "| Student | Matrikel-Nummer |\n",
    "|:-- |:--|\n",
    "|Moritz Wetzel | 943566|\n",
    "|Till Waller | 943565|\n",
    "Fabian Harmsen| 943611|\n",
    "\n"
   ],
   "metadata": {
    "collapsed": false,
    "pycharm": {
     "name": "#%% md\n"
    }
   }
  },
  {
   "cell_type": "markdown",
   "source": [
    "## Gliederung\n",
    "\n",
    "1. Projektziel\n",
    "2. Erklärungen zu den grafischen Ergebnissen\n",
    "3. Configuration\n",
    "4. Import\n",
    "5. Similar Activities\n",
    "6. Discover Roles\n",
    "7. Handover Of Work\n",
    "8. Clustering Similar Activities\n",
    "9. Clustering Working together\n",
    "10. Fazit"
   ],
   "metadata": {
    "collapsed": false,
    "pycharm": {
     "name": "#%% md\n"
    }
   }
  },
  {
   "cell_type": "markdown",
   "source": [
    "## 3. Configuration\n",
    "\n",
    "Die folgende Tabelle erklärt die Variablen, die im nächsten Code-Block definiert werden können. Die Logdatei muss, um richtig analysiert werden zu können, im XES-Dateiformat vorliegen. Der Speicherort muss in der Variable `log_path` angegeben werden.\n",
    "\n",
    "| variable | type | description| default|\n",
    "|:--|:--|:--|:--|\n",
    "|log_path | (path)| path to the XES File|`data/test.xes`|\n",
    "|use_networkx | (bool)| output via NetworkX or Pyvis| `False`|\n",
    "|filter_timeframe | (bool)| filter the timeframe of the traces| `False` |\n",
    "|filter_timeframe_intersecting | (bool)| use intersecting or contained| `False` |\n",
    "|filter_timeframe_start | (dateTime)| start of the Timeframe| `1970-01-01 00:00:00` |\n",
    "|filter_timeframe_end | (dateTime)| end of the Timeframe| `2038-12-31 00:00:00` |\n",
    "|filter_performance| (bool)| filter on Traceperformance| `False` |\n",
    "|filter_performance_min| (int)| minimum seconds of trace actions|`0` |\n",
    "|filter_performance_max |(int)| maximum seconds of trace actions|`360000` |\n",
    "\n",
    "Die Option `Pyvis` legt die Ergebnisse im Ordner `./result` ab, welcher schreibend Zugriff benötigt."
   ],
   "metadata": {
    "collapsed": false,
    "pycharm": {
     "name": "#%% md\n"
    }
   }
  },
  {
   "cell_type": "code",
   "execution_count": null,
   "outputs": [],
   "source": [
    "log_path = 'data/BPI_Challenge_2017_Offer_log.xes'\n",
    "\n",
    "use_networkx = False\n",
    "\n",
    "filter_timeframe = False\n",
    "filter_timeframe_intersecting  = False\n",
    "filter_timeframe_start = \"2011-03-09 00:00:00\"\n",
    "filter_timeframe_end = \"2011-03-09 00:00:00\"\n",
    "\n",
    "filter_performance = False\n",
    "filter_performance_min = 0\n",
    "filter_performance_max = 864000"
   ],
   "metadata": {
    "collapsed": false,
    "pycharm": {
     "name": "#%%\n"
    }
   }
  },
  {
   "cell_type": "markdown",
   "source": [
    "## 4. Import\n",
    "Im folgenden Codeblock werden alle Bibliotheken geladen die im laufenden Skript benötigt werden. Wenn die Bibliotheken nicht gefunden werden können, können sie über den Packagemanager pip seperat nachinstalliert werden.\n",
    "\n",
    "**Unvollständige Liste der Pythonpackete (pip)**\n",
    " - pm4py\n",
    " - shutil\n",
    " - numpy\n",
    " - sklearn\n",
    " - scipy\n"
   ],
   "metadata": {
    "collapsed": false,
    "pycharm": {
     "name": "#%% md\n"
    }
   }
  },
  {
   "cell_type": "code",
   "execution_count": null,
   "outputs": [],
   "source": [
    "import shutil\n",
    "from pm4py.objects.log.importer.xes import importer as xes_importer\n",
    "from pm4py.algo.organizational_mining.sna import algorithm as sna\n",
    "from pm4py.visualization.sna import visualizer as sna_visualizer\n",
    "from pm4py.algo.organizational_mining.roles import algorithm as roles_discovery\n",
    "from pm4py.algo.organizational_mining.sna import util\n",
    "from pm4py.algo.filtering.log.timestamp import timestamp_filter\n",
    "from pm4py.algo.filtering.log.cases import case_filter\n",
    "from pm4py.algo.organizational_mining.local_diagnostics import algorithm as local_diagnostics\n",
    "from pathlib import Path"
   ],
   "metadata": {
    "collapsed": false,
    "pycharm": {
     "name": "#%%\n"
    }
   }
  },
  {
   "cell_type": "markdown",
   "source": [
    "Der Ordner für die webbasierten Exportergebnisse wird in diesem Codeblock erstellt. Wird NetworkX als Ausgabe genutzt, wird dieser Abschnitt übersprungen.\n"
   ],
   "metadata": {
    "collapsed": false,
    "pycharm": {
     "name": "#%% md\n"
    }
   }
  },
  {
   "cell_type": "code",
   "execution_count": null,
   "outputs": [],
   "source": [
    "if not use_networkx:\n",
    "    Path(\"./result\").mkdir(parents=True, exist_ok=True)"
   ],
   "metadata": {
    "collapsed": false,
    "pycharm": {
     "name": "#%%\n"
    }
   }
  },
  {
   "cell_type": "markdown",
   "source": [
    "Dieser Code-Block lädt den Datensatz und wendet die eingestellten Filter an.\n",
    "Die Einstellungen dazu wurden in Block 3 (Configuration) festgelegt."
   ],
   "metadata": {
    "collapsed": false,
    "pycharm": {
     "name": "#%% md\n"
    }
   }
  },
  {
   "cell_type": "code",
   "execution_count": null,
   "outputs": [],
   "source": [
    "log = xes_importer.apply(log_path)\n",
    "\n",
    "if filter_timeframe:\n",
    "    if not filter_timeframe_intersecting:\n",
    "        log = timestamp_filter.filter_traces_contained(   log, filter_timeframe_start, filter_timeframe_end)\n",
    "    else:\n",
    "        log = timestamp_filter.filter_traces_intersecting(log, filter_timeframe_start, filter_timeframe_end)\n",
    "\n",
    "if filter_performance:\n",
    "    log = case_filter.filter_case_performance(log, filter_performance_min, filter_performance_max)"
   ],
   "metadata": {
    "collapsed": false,
    "pycharm": {
     "name": "#%%\n"
    }
   }
  },
  {
   "cell_type": "markdown",
   "source": [
    "## 5. Similar Activities\n",
    "\n",
    "In diesem Abschnitt wird die Methode \"Similar Activities\" auf den zuvor importierten Datensatz angewendet, um zu berechnen, wie sehr sich die Arbeitsabläufe zwischen den Nutzern (Nodes) ähneln (Quelle: https://pm4py.fit.fraunhofer.de/documentation)."
   ],
   "metadata": {
    "collapsed": false,
    "pycharm": {
     "name": "#%% md\n"
    }
   }
  },
  {
   "cell_type": "code",
   "execution_count": null,
   "outputs": [],
   "source": [
    "sa_metric  = sna.apply(log, variant=sna.Variants.JOINTACTIVITIES_LOG)\n",
    "\n",
    "if use_networkx:\n",
    "    gviz_ja_py = sna_visualizer.apply(sa_metric , variant=sna_visualizer.Variants.NETWORKX)\n",
    "    sna_visualizer.view(gviz_ja_py, variant=sna_visualizer.Variants.NETWORKX)\n",
    "else:\n",
    "    gviz_ja_py = sna_visualizer.apply(sa_metric , variant=sna_visualizer.Variants.PYVIS)\n",
    "    shutil.move(gviz_ja_py, \"result/similar_activities.html\")"
   ],
   "metadata": {
    "collapsed": false,
    "pycharm": {
     "name": "#%%\n"
    }
   }
  },
  {
   "cell_type": "markdown",
   "source": [
    "## 6. Discover Roles\n",
    "\n",
    "In diesem Abschnitt wird die Methode “Discover Roles” auf den zuvor importierten Datensatz angewendet, um die Rollen eines Nutzers (Node) anhand seiner durchgeführten Aktivitäten zu erkennen. Eine Rolle ist dabei ein Satz von Arbeitsaktivitäten im Log, die in ähnlicher Weise von einem Nutzer (Node) oder mehreren Nutzern (Nodes) ausgeführt wird. Zu Beginn der Analyse gehört jede Arbeitsaktivität zu unterschiedlichen Positionen und ist mit einer hohen Anzahl an Urhebern verbunden. Anschließend werden die Rollen entsprechend ihrer Ähnlichkeit der Arbeitsabläufe gruppiert, bis keine weitere Gruppierung mehr möglich ist. (Quelle: https://pm4py.fit.fraunhofer.de/documentation)\n",
    "\n",
    "Folgende Quelle kann helfen, die aufgeführten Rollen zu verstehen und zu erkennen:\n",
    "\n",
    "Burattin, Andrea, Alessandro Sperduti, and Marco Veluscek. “Business models enhancement through discovery of roles.” 2013 IEEE Symposium on Computational Intelligence and Data Mining (CIDM). IEEE, 2013\n",
    "\n",
    "Die Analyseergebnisse werden folgendermaßen ausgegeben:\n",
    "\n",
    "1. Rollenname auf Basis der Aktivitäten\n",
    "2. Benutzer mit der Angabe wie aktiv der Nutzer in der Rolle war\n",
    "3. `Leerzeile`"
   ],
   "metadata": {
    "collapsed": false,
    "pycharm": {
     "name": "#%% md\n"
    }
   }
  },
  {
   "cell_type": "code",
   "execution_count": null,
   "outputs": [],
   "source": [
    "roles = roles_discovery.apply(log)\n",
    "\n",
    "for x in roles:\n",
    "    print(x[0])\n",
    "    print(x[1])\n",
    "    print(\"\")"
   ],
   "metadata": {
    "collapsed": false,
    "pycharm": {
     "name": "#%%\n"
    }
   }
  },
  {
   "cell_type": "markdown",
   "source": [
    "## 7. Handover Of Work\n",
    "\n",
    "In diesem Abschnitt wird die Methode “Handover Of Work” auf den zuvor importierten Datensatz angewendet, um zu messen, wie oft ein Nutzer (Node) bei der Ausführung eines Geschäftsprozesses mit einer anderen Person zusammenarbeitet. (Quelle: https://pm4py.fit.fraunhofer.de/documentation)\n",
    "Ein HandOver wird hier als folgendes definiert, ein Nutzer übergibt den Geschäftsvorfall am Ende seiner Aktivität an einen anderen Nutzer. Die beiden Nutzer sind dabei die Nodes, die Edges sind eine Metrik für die Anzahl an übergebenden Geschäftsvorfällen. Die Edges zeigen bei “Handover Of Work” Analysen somit auch die Richtung des Arbeitsflusses.\n",
    "\n"
   ],
   "metadata": {
    "collapsed": false,
    "pycharm": {
     "name": "#%% md\n"
    }
   }
  },
  {
   "cell_type": "code",
   "execution_count": null,
   "outputs": [],
   "source": [
    "hw_values = sna.apply(log, variant=sna.Variants.HANDOVER_LOG)\n",
    "\n",
    "if use_networkx:\n",
    "    gviz_hw_py = sna_visualizer.apply(hw_values, variant=sna_visualizer.Variants.NETWORKX)\n",
    "    sna_visualizer.view(gviz_hw_py, variant=sna_visualizer.Variants.NETWORKX)\n",
    "else:\n",
    "    gviz_hw_py = sna_visualizer.apply(hw_values , variant=sna_visualizer.Variants.PYVIS)\n",
    "    shutil.move(gviz_hw_py, \"result/handover_of_work.html\")"
   ],
   "metadata": {
    "collapsed": false,
    "pycharm": {
     "name": "#%%\n"
    }
   }
  },
  {
   "cell_type": "markdown",
   "source": [
    "## 8. Clustering Similar Activities\n",
    "\n",
    "In diesem Abschnitt werden die unter 6 analysierten Nutzer in Nutzergruppen zusammengefasst, welche gleiche Aufgaben verrichtet haben. Dies soll die Übersichtlichkeit erhöhen und erste Schlussfolgerungen ermöglichen.\n",
    "\n",
    "Die Analyseergebnisse werden folgendermaßen ausgegeben:\n",
    "\n",
    "1. Cluster\n",
    "2. Benutzerliste\n",
    "3. `Leerzeile`"
   ],
   "metadata": {
    "collapsed": false,
    "pycharm": {
     "name": "#%% md\n"
    }
   }
  },
  {
   "cell_type": "code",
   "execution_count": null,
   "outputs": [],
   "source": [
    "clustering_sa = util.cluster_affinity_propagation(sa_metric)\n",
    "\n",
    "for group in clustering_sa:\n",
    "    print(\"Gruppe: \" + group)\n",
    "    print(clustering_sa[group])\n",
    "    print(\"\")\n"
   ],
   "metadata": {
    "collapsed": false,
    "pycharm": {
     "name": "#%%\n"
    }
   }
  },
  {
   "cell_type": "markdown",
   "source": [
    "## 9. Clustering Handover Of Work\n",
    "\n",
    "In diesem Abschnitt werden die unter 8 analysierten Nutzer als Gruppe zusammengefasst, welche häufig miteinander arbeiten. Dies soll die Übersichtlichkeit erhöhen und erste Schlussfolgerungen ermöglichen.\n",
    "\n",
    "Die Analyseergebnisse werden folgendermaßen ausgegeben:\n",
    "\n",
    "1. Cluster\n",
    "2. Benutzerliste\n",
    "3. `Leerzeile`"
   ],
   "metadata": {
    "collapsed": false,
    "pycharm": {
     "name": "#%% md\n"
    }
   }
  },
  {
   "cell_type": "code",
   "execution_count": null,
   "outputs": [],
   "source": [
    "clustering_hw = util.cluster_affinity_propagation(hw_values)\n",
    "for group in clustering_hw:\n",
    "    print(\"Gruppe: \" + group)\n",
    "    print(clustering_hw[group])\n",
    "    print(\"\")"
   ],
   "metadata": {
    "collapsed": false,
    "pycharm": {
     "name": "#%%\n"
    }
   }
  },
  {
   "cell_type": "markdown",
   "source": [
    "## 10. Fazit\n",
    "\n",
    "Im Projekt konten wir aus verschiedensten Datensätze auswerten. Dabei konnte man sowohl Guppenpersonen erkennen die regelmäßig die gleichen Aktivitäten machen aber auch Personen die an verschiedenen Stellen in einem Geschäftsprozess arbeiten.\n",
    "Auffällig war aber, dass es auch Geschäftsprozesse gab bei denen alle Beteiligten ein großes Team waren, in solchen Fällen erzeugen die durchgeführten Analysen kein interpretierbares Ergebnis.\n"
   ],
   "metadata": {
    "collapsed": false,
    "pycharm": {
     "name": "#%% md\n"
    }
   }
  }
 ],
 "metadata": {
  "kernelspec": {
   "display_name": "Python 3 (ipykernel)",
   "language": "python",
   "name": "python3"
  },
  "language_info": {
   "codemirror_mode": {
    "name": "ipython",
    "version": 3
   },
   "file_extension": ".py",
   "mimetype": "text/x-python",
   "name": "python",
   "nbconvert_exporter": "python",
   "pygments_lexer": "ipython3",
   "version": "3.10.0"
  }
 },
 "nbformat": 4,
 "nbformat_minor": 1
}