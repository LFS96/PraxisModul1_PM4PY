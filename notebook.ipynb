{
 "cells": [
  {
   "cell_type": "markdown",
   "metadata": {},
   "source": [
    "[Markdown Guide](https://docs.gitlab.com/ee/user/markdown.html)"
   ]
  },
  {
   "cell_type": "markdown",
   "source": [
    "# Praxis Modul I\n",
    "## SoSe 2022 - HS Mainz\n",
    "\n",
    "### Sozial Network Analyse\n",
    "\n",
    "Untersuchen von sozialen Netzwerken mithilfe von PM4PY.\n",
    "\n",
    "Durchgeführt von\n",
    "\n",
    "| Student | Matrikel-Nummer |\n",
    "|:-- |:--|\n",
    "|Moritz Wetzel | 123456|\n",
    "|Till Waller | 123456|\n",
    "Fabian Harmsen| 123456|\n",
    "\n"
   ],
   "metadata": {
    "collapsed": false
   }
  },
  {
   "cell_type": "markdown",
   "metadata": {},
   "source": [
    "# Configuration\n",
    "Die unten stehende Table erklärt die Funktion der Variablen im nächsten Code-Block.\n",
    "\n",
    "| variable | type | description|\n",
    "|:--|:--|:--|\n",
    "|log_path | (path)| path to the XES File|\n",
    "|use_networkx | (bool)| output via NetworkX or Pyvis|\n",
    "|filter_timeframe | (bool)| filter the timeframe of the traces|\n",
    "|filter_timeframe_intersecting | (bool)| use intersecting or contained|\n",
    "|filter_timeframe_start | (dateTime)| start of the Timeframe|\n",
    "|filter_timeframe_end | (dateTime)| end of the Timeframe|\n",
    "|filter_performance| (bool)| filter on Traceperformance|\n",
    "|filter_performance_min| (int)| minimum seconds of trace actions|\n",
    "|filter_performance_max |(int)| maximum seconds of trace actions|\n",
    "\n",
    "Die Option `Pyvis` legt die Ergebnisse im Ordner `./result` ab, dieser muss beschreibbar sein."
   ]
  },
  {
   "cell_type": "code",
   "execution_count": 13,
   "metadata": {
    "pycharm": {
     "name": "#%%\n"
    }
   },
   "outputs": [],
   "source": [
    "log_path = 'data/BPI_Challenge_2017_Offer_log.xes'\n",
    "\n",
    "use_networkx = True\n",
    "\n",
    "filter_timeframe = True\n",
    "filter_timeframe_intersecting  = False\n",
    "filter_timeframe_start = \"2011-03-09 00:00:00\"\n",
    "filter_timeframe_end = \"2011-03-09 00:00:00\"\n",
    "\n",
    "filter_performance = False\n",
    "filter_performance_min = 0\n",
    "filter_performance_max = 864000"
   ]
  },
  {
   "cell_type": "markdown",
   "metadata": {},
   "source": [
    "#### Import\n",
    "Im folgenden Codeblock werden alle Bibliotheken geladen die im laufenden Script benötigt werden.\n",
    "Wenn diese Bibliotheken nicht geladen werden können, wird der Script nicht funktionieren.\n",
    "\n",
    "**Unvollständige Liste der Pythonpackete (pip)**\n",
    " - pm4py\n",
    " - shutil\n",
    " - numpy\n",
    " - sklearn\n",
    " - scipy\n"
   ]
  },
  {
   "cell_type": "code",
   "execution_count": 14,
   "metadata": {
    "pycharm": {
     "name": "#%%\n"
    }
   },
   "outputs": [],
   "source": [
    "import shutil\n",
    "from pm4py.objects.log.importer.xes import importer as xes_importer\n",
    "\n",
    "from pm4py.algo.organizational_mining.sna import algorithm as sna\n",
    "from pm4py.visualization.sna import visualizer as sna_visualizer\n",
    "from pm4py.algo.organizational_mining.roles import algorithm as roles_discovery\n",
    "from pm4py.algo.organizational_mining.sna import util\n",
    "from pm4py.algo.filtering.log.timestamp import timestamp_filter\n",
    "from pm4py.algo.filtering.log.cases import case_filter\n",
    "import pm4py\n",
    "import os\n",
    "from pm4py.algo.organizational_mining.local_diagnostics import algorithm as local_diagnostics"
   ]
  },
  {
   "cell_type": "markdown",
   "metadata": {},
   "source": [
    "#### Allgemeiner Importskript\n",
    "Läd die in der Konfig angegebenen Datensatz und wendet die eingestellten Filter an."
   ]
  },
  {
   "cell_type": "code",
   "execution_count": 15,
   "metadata": {
    "pycharm": {
     "name": "#%%\n"
    }
   },
   "outputs": [
    {
     "data": {
      "text/plain": "parsing log, completed traces ::   0%|          | 0/42995 [00:00<?, ?it/s]",
      "application/vnd.jupyter.widget-view+json": {
       "version_major": 2,
       "version_minor": 0,
       "model_id": "39690f6df89c4d4b953bf28d51bd6db6"
      }
     },
     "metadata": {},
     "output_type": "display_data"
    }
   ],
   "source": [
    "log = xes_importer.apply(log_path)\n",
    "\n",
    "if filter_timeframe:\n",
    "    if not filter_timeframe_intersecting:\n",
    "        log = timestamp_filter.filter_traces_contained(   log, filter_timeframe_start, filter_timeframe_end)\n",
    "    else:\n",
    "        log = timestamp_filter.filter_traces_intersecting(log, filter_timeframe_start, filter_timeframe_end)\n",
    "\n",
    "if filter_performance:\n",
    "    log = case_filter.filter_case_performance(log, filter_performance_min, filter_performance_max)"
   ]
  },
  {
   "cell_type": "markdown",
   "metadata": {},
   "source": [
    "**Similar Activities**\n",
    "Berechtet wie ähnlich die aktivitäten der Benutzer sind\n",
    "\n",
    "Ergebnis: result/similar_activities.html"
   ]
  },
  {
   "cell_type": "code",
   "execution_count": 16,
   "metadata": {
    "pycharm": {
     "name": "#%%\n"
    }
   },
   "outputs": [
    {
     "ename": "ValueError",
     "evalue": "zero-size array to reduction operation maximum which has no identity",
     "output_type": "error",
     "traceback": [
      "\u001B[1;31m---------------------------------------------------------------------------\u001B[0m",
      "\u001B[1;31mValueError\u001B[0m                                Traceback (most recent call last)",
      "Input \u001B[1;32mIn [16]\u001B[0m, in \u001B[0;36m<module>\u001B[1;34m\u001B[0m\n\u001B[1;32m----> 1\u001B[0m sa_metric  \u001B[38;5;241m=\u001B[39m \u001B[43msna\u001B[49m\u001B[38;5;241;43m.\u001B[39;49m\u001B[43mapply\u001B[49m\u001B[43m(\u001B[49m\u001B[43mlog\u001B[49m\u001B[43m,\u001B[49m\u001B[43m \u001B[49m\u001B[43mvariant\u001B[49m\u001B[38;5;241;43m=\u001B[39;49m\u001B[43msna\u001B[49m\u001B[38;5;241;43m.\u001B[39;49m\u001B[43mVariants\u001B[49m\u001B[38;5;241;43m.\u001B[39;49m\u001B[43mJOINTACTIVITIES_LOG\u001B[49m\u001B[43m)\u001B[49m\n\u001B[0;32m      3\u001B[0m \u001B[38;5;28;01mif\u001B[39;00m use_networkx:\n\u001B[0;32m      4\u001B[0m     gviz_ja_py \u001B[38;5;241m=\u001B[39m sna_visualizer\u001B[38;5;241m.\u001B[39mapply(sa_metric , variant\u001B[38;5;241m=\u001B[39msna_visualizer\u001B[38;5;241m.\u001B[39mVariants\u001B[38;5;241m.\u001B[39mNETWORKX)\n",
      "File \u001B[1;32mc:\\users\\fabian harmsen\\pycharmprojects\\praxismodul1_pm4py\\venv\\lib\\site-packages\\pm4py\\algo\\organizational_mining\\sna\\algorithm.py:86\u001B[0m, in \u001B[0;36mapply\u001B[1;34m(log, parameters, variant)\u001B[0m\n\u001B[0;32m     84\u001B[0m     log \u001B[38;5;241m=\u001B[39m log_conversion\u001B[38;5;241m.\u001B[39mapply(log, parameters\u001B[38;5;241m=\u001B[39mparameters)\n\u001B[0;32m     85\u001B[0m sna \u001B[38;5;241m=\u001B[39m exec_utils\u001B[38;5;241m.\u001B[39mget_variant(variant)\u001B[38;5;241m.\u001B[39mapply(log, parameters\u001B[38;5;241m=\u001B[39mparameters)\n\u001B[1;32m---> 86\u001B[0m abs_max \u001B[38;5;241m=\u001B[39m \u001B[43mnp\u001B[49m\u001B[38;5;241;43m.\u001B[39;49m\u001B[43mmax\u001B[49m\u001B[43m(\u001B[49m\u001B[43mnp\u001B[49m\u001B[38;5;241;43m.\u001B[39;49m\u001B[43mabs\u001B[49m\u001B[43m(\u001B[49m\u001B[43msna\u001B[49m\u001B[43m[\u001B[49m\u001B[38;5;241;43m0\u001B[39;49m\u001B[43m]\u001B[49m\u001B[43m)\u001B[49m\u001B[43m)\u001B[49m\n\u001B[0;32m     87\u001B[0m \u001B[38;5;28;01mif\u001B[39;00m enable_metric_normalization \u001B[38;5;129;01mand\u001B[39;00m abs_max \u001B[38;5;241m>\u001B[39m \u001B[38;5;241m0\u001B[39m:\n\u001B[0;32m     88\u001B[0m     sna[\u001B[38;5;241m0\u001B[39m] \u001B[38;5;241m=\u001B[39m sna[\u001B[38;5;241m0\u001B[39m] \u001B[38;5;241m/\u001B[39m abs_max\n",
      "File \u001B[1;32m<__array_function__ internals>:180\u001B[0m, in \u001B[0;36mamax\u001B[1;34m(*args, **kwargs)\u001B[0m\n",
      "File \u001B[1;32mc:\\users\\fabian harmsen\\pycharmprojects\\praxismodul1_pm4py\\venv\\lib\\site-packages\\numpy\\core\\fromnumeric.py:2791\u001B[0m, in \u001B[0;36mamax\u001B[1;34m(a, axis, out, keepdims, initial, where)\u001B[0m\n\u001B[0;32m   2675\u001B[0m \u001B[38;5;129m@array_function_dispatch\u001B[39m(_amax_dispatcher)\n\u001B[0;32m   2676\u001B[0m \u001B[38;5;28;01mdef\u001B[39;00m \u001B[38;5;21mamax\u001B[39m(a, axis\u001B[38;5;241m=\u001B[39m\u001B[38;5;28;01mNone\u001B[39;00m, out\u001B[38;5;241m=\u001B[39m\u001B[38;5;28;01mNone\u001B[39;00m, keepdims\u001B[38;5;241m=\u001B[39mnp\u001B[38;5;241m.\u001B[39m_NoValue, initial\u001B[38;5;241m=\u001B[39mnp\u001B[38;5;241m.\u001B[39m_NoValue,\n\u001B[0;32m   2677\u001B[0m          where\u001B[38;5;241m=\u001B[39mnp\u001B[38;5;241m.\u001B[39m_NoValue):\n\u001B[0;32m   2678\u001B[0m     \u001B[38;5;124;03m\"\"\"\u001B[39;00m\n\u001B[0;32m   2679\u001B[0m \u001B[38;5;124;03m    Return the maximum of an array or maximum along an axis.\u001B[39;00m\n\u001B[0;32m   2680\u001B[0m \n\u001B[1;32m   (...)\u001B[0m\n\u001B[0;32m   2789\u001B[0m \u001B[38;5;124;03m    5\u001B[39;00m\n\u001B[0;32m   2790\u001B[0m \u001B[38;5;124;03m    \"\"\"\u001B[39;00m\n\u001B[1;32m-> 2791\u001B[0m     \u001B[38;5;28;01mreturn\u001B[39;00m \u001B[43m_wrapreduction\u001B[49m\u001B[43m(\u001B[49m\u001B[43ma\u001B[49m\u001B[43m,\u001B[49m\u001B[43m \u001B[49m\u001B[43mnp\u001B[49m\u001B[38;5;241;43m.\u001B[39;49m\u001B[43mmaximum\u001B[49m\u001B[43m,\u001B[49m\u001B[43m \u001B[49m\u001B[38;5;124;43m'\u001B[39;49m\u001B[38;5;124;43mmax\u001B[39;49m\u001B[38;5;124;43m'\u001B[39;49m\u001B[43m,\u001B[49m\u001B[43m \u001B[49m\u001B[43maxis\u001B[49m\u001B[43m,\u001B[49m\u001B[43m \u001B[49m\u001B[38;5;28;43;01mNone\u001B[39;49;00m\u001B[43m,\u001B[49m\u001B[43m \u001B[49m\u001B[43mout\u001B[49m\u001B[43m,\u001B[49m\n\u001B[0;32m   2792\u001B[0m \u001B[43m                          \u001B[49m\u001B[43mkeepdims\u001B[49m\u001B[38;5;241;43m=\u001B[39;49m\u001B[43mkeepdims\u001B[49m\u001B[43m,\u001B[49m\u001B[43m \u001B[49m\u001B[43minitial\u001B[49m\u001B[38;5;241;43m=\u001B[39;49m\u001B[43minitial\u001B[49m\u001B[43m,\u001B[49m\u001B[43m \u001B[49m\u001B[43mwhere\u001B[49m\u001B[38;5;241;43m=\u001B[39;49m\u001B[43mwhere\u001B[49m\u001B[43m)\u001B[49m\n",
      "File \u001B[1;32mc:\\users\\fabian harmsen\\pycharmprojects\\praxismodul1_pm4py\\venv\\lib\\site-packages\\numpy\\core\\fromnumeric.py:86\u001B[0m, in \u001B[0;36m_wrapreduction\u001B[1;34m(obj, ufunc, method, axis, dtype, out, **kwargs)\u001B[0m\n\u001B[0;32m     83\u001B[0m         \u001B[38;5;28;01melse\u001B[39;00m:\n\u001B[0;32m     84\u001B[0m             \u001B[38;5;28;01mreturn\u001B[39;00m reduction(axis\u001B[38;5;241m=\u001B[39maxis, out\u001B[38;5;241m=\u001B[39mout, \u001B[38;5;241m*\u001B[39m\u001B[38;5;241m*\u001B[39mpasskwargs)\n\u001B[1;32m---> 86\u001B[0m \u001B[38;5;28;01mreturn\u001B[39;00m ufunc\u001B[38;5;241m.\u001B[39mreduce(obj, axis, dtype, out, \u001B[38;5;241m*\u001B[39m\u001B[38;5;241m*\u001B[39mpasskwargs)\n",
      "\u001B[1;31mValueError\u001B[0m: zero-size array to reduction operation maximum which has no identity"
     ]
    }
   ],
   "source": [
    "sa_metric  = sna.apply(log, variant=sna.Variants.JOINTACTIVITIES_LOG)\n",
    "\n",
    "if use_networkx:\n",
    "    gviz_ja_py = sna_visualizer.apply(sa_metric , variant=sna_visualizer.Variants.NETWORKX)\n",
    "    sna_visualizer.view(gviz_ja_py, variant=sna_visualizer.Variants.NETWORKX)\n",
    "else:\n",
    "    gviz_ja_py = sna_visualizer.apply(sa_metric , variant=sna_visualizer.Variants.PYVIS)\n",
    "    shutil.move(gviz_ja_py, \"result/similar_activities.html\")"
   ]
  },
  {
   "cell_type": "markdown",
   "metadata": {},
   "source": [
    "Discover Roles"
   ]
  },
  {
   "cell_type": "code",
   "execution_count": null,
   "metadata": {
    "pycharm": {
     "name": "#%%\n"
    }
   },
   "outputs": [],
   "source": [
    "roles = roles_discovery.apply(log)\n",
    "print([x for x in roles])"
   ]
  },
  {
   "cell_type": "markdown",
   "metadata": {},
   "source": [
    "Handover of Work"
   ]
  },
  {
   "cell_type": "code",
   "execution_count": null,
   "metadata": {
    "pycharm": {
     "name": "#%%\n"
    }
   },
   "outputs": [],
   "source": [
    "hw_values = sna.apply(log, variant=sna.Variants.HANDOVER_LOG)\n",
    "\n",
    "if use_networkx:\n",
    "    gviz_hw_py = sna_visualizer.apply(hw_values, variant=sna_visualizer.Variants.NETWORKX)\n",
    "    sna_visualizer.view(gviz_hw_py, variant=sna_visualizer.Variants.NETWORKX)\n",
    "else:\n",
    "    gviz_hw_py = sna_visualizer.apply(sa_metric , variant=sna_visualizer.Variants.PYVIS)\n",
    "    shutil.move(gviz_hw_py, \"result/handover_of_work.html\")"
   ]
  },
  {
   "cell_type": "markdown",
   "metadata": {},
   "source": [
    "CLuster Similar Activities into groups\n",
    "Clustering the results of the similar activities metric, individuals that work on the same tasks would be inserted in the same group."
   ]
  },
  {
   "cell_type": "code",
   "execution_count": null,
   "metadata": {
    "pycharm": {
     "name": "#%%\n"
    }
   },
   "outputs": [],
   "source": [
    "clustering_sa = util.cluster_affinity_propagation(sa_metric)\n",
    "print(clustering_sa)"
   ]
  },
  {
   "cell_type": "markdown",
   "metadata": {},
   "source": [
    "Clustering the results of the working together metric, individuals that work often together would be inserted in the same group."
   ]
  },
  {
   "cell_type": "code",
   "execution_count": null,
   "metadata": {
    "pycharm": {
     "name": "#%%\n"
    }
   },
   "outputs": [],
   "source": [
    "clustering_sa = util.cluster_affinity_propagation(hw_values)\n",
    "print(clustering_sa)"
   ]
  },
  {
   "cell_type": "code",
   "execution_count": null,
   "metadata": {
    "pycharm": {
     "name": "#%%\n"
    }
   },
   "outputs": [],
   "source": [
    "# this applies the organizational mining from an attribute that is in each event, describing the group that is performing the task.\n",
    "ld = local_diagnostics.apply_from_group_attribute(log)\n",
    "# GROUP RELATIVE FOCUS (on a given type of work) specifies how much a resource group performed this type of work\n",
    "# compared to the overall workload of the group. It can be used to measure how the workload of a resource group\n",
    "# is distributed over different types of work, i.e., work diversification of the group.\n",
    "print(\"\\ngroup_relative_focus\")\n",
    "print(ld[\"group_relative_focus\"])\n",
    "# GROUP RELATIVE STAKE (in a given type of work) specifies how much this type of work was performed by a certain\n",
    "# resource group among all groups. It can be used to measure how the workload devoted to a certain type of work is\n",
    "# distributed over resource groups in an organizational model, i.e., work participation by different groups.\n",
    "print(\"\\ngroup_relative_stake\")\n",
    "print(ld[\"group_relative_stake\"])\n",
    "# GROUP COVERAGE with respect to a given type of work specifies the proportion of members of a resource group that\n",
    "# performed this type of work.\n",
    "print(\"\\ngroup_coverage\")\n",
    "print(ld[\"group_coverage\"])\n",
    "# GROUP MEMBER CONTRIBUTION of a member of a resource group with respect to the given type of work specifies how\n",
    "# much of this type of work by the group was performed by the member. It can be used to measure how the workload\n",
    "# of the entire group devoted to a certain type of work is distributed over the group members.\n",
    "print(\"\\ngroup_member_contribution\")\n",
    "print(ld[\"group_member_contribution\"])"
   ]
  }
 ],
 "metadata": {
  "kernelspec": {
   "display_name": "Python 3 (ipykernel)",
   "language": "python",
   "name": "python3"
  },
  "language_info": {
   "codemirror_mode": {
    "name": "ipython",
    "version": 3
   },
   "file_extension": ".py",
   "mimetype": "text/x-python",
   "name": "python",
   "nbconvert_exporter": "python",
   "pygments_lexer": "ipython3",
   "version": "3.10.0"
  }
 },
 "nbformat": 4,
 "nbformat_minor": 1
}