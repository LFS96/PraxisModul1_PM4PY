{
 "cells": [
  {
   "cell_type": "markdown",
   "metadata": {
    "pycharm": {
     "name": "#%% md\n"
    }
   },
   "source": [
    "[Markdown Guide](https://docs.gitlab.com/ee/user/markdown.html)"
   ]
  },
  {
   "cell_type": "markdown",
   "metadata": {
    "pycharm": {
     "name": "#%% md\n"
    }
   },
   "source": [
    "# Praxismodul I\n",
    "## Thema 6: Process Organisation\n",
    "## Hochschule Mainz\n",
    "## Wirtschaftsinformatik dual B.Sc., Fachsemester 4\n",
    "\n",
    "Durchgeführt von\n",
    "\n",
    "| Student | Matrikel-Nummer |\n",
    "|:-- |:--|\n",
    "|Moritz Wetzel | 943566|\n",
    "|Till Waller | 943565|\n",
    "Fabian Harmsen| 943611|\n",
    "\n"
   ]
  },
  {
   "cell_type": "markdown",
   "metadata": {
    "pycharm": {
     "name": "#%% md\n"
    }
   },
   "source": [
    "## Gliederung\n",
    "\n",
    "1. Projektziel\n",
    "2. Wissenschaftliche Methoden\n",
    "    2.1 Similar Activities\n",
    "    2.2 Discover Roles\n",
    "    2.3 Handover Of Work\n",
    "3. Erklärungen zu den grafischen Ergebnissen\n",
    "4. Configuration\n",
    "5. Import\n",
    "6. Similar Activities (Skript)\n",
    "7. Discover Roles (Skript)\n",
    "8. Handover Of Work (Skript)\n",
    "9. Clustering Similar Activities\n",
    "10. Clustering Working together\n",
    "11. Fazit"
   ]
  },
  {
   "cell_type": "markdown",
   "metadata": {
    "pycharm": {
     "name": "#%% md\n"
    }
   },
   "source": [
    "## 1. Projektziel\n",
    "\n",
    "Im Rahmen dieser Projektarbeit wird die Prozessorganisation eines zur Verfügung gestellten Datensatzes untersucht. Die uns zur Verfügung gestellte Logdatei stammt aus der BPI-Challenge 2017 und bestehen aus 2 Geschäftsprozessen. Unser Projektziel wird daraus bestehen, soziale Netzwerke innerhalb eines gewünschten Datensatzes zu entdecken. Hierfür werden die Daten mit Methoden der sozialen Netzwerkanalyse untersucht, um die sozialen Verbindungen im importierten Datensatz zu untersuchen und auszuwerten. Die Ergebnisse werden mithilfe eines Jupyter-Notebooks berechnet und visuell dargestellt werden."
   ]
  },
  {
   "cell_type": "markdown",
   "metadata": {
    "pycharm": {
     "name": "#%% md\n"
    }
   },
   "source": [
    "## 2. Wissenschaftliche Methoden\n",
    "\n",
    "In den folgenden Unterpunkten werden alle genutzen Methoden der Analyse sozialer Netzwerke theorisch dargestellt und erläutert. Als Grundlage für die theorische Recherche diente www.PM4PY.org.\n",
    "\n",
    "//TODO: Recherche, Ausformulieren\n",
    "### 2.1 Similar Activities\n",
    "\n",
    "//TODO: Recherche, Ausformulieren\n",
    "### 2.2 Discover Roles\n",
    "\n",
    "//TODO: Recherche, Ausformulieren\n",
    "### 2.3 Handover of Work\n",
    "\n"
   ]
  },
  {
   "cell_type": "markdown",
   "metadata": {
    "pycharm": {
     "name": "#%% md\n"
    }
   },
   "source": [
    "## 3. Erklärung zu den grafischen Ergebnissen\n",
    "\n",
    "Im vorherigen Kapitel wurden alle in dieser Arbeit genutzten Methoden der Analyse von sozialen Netzwerken bereits erläutert. Bei der Generierung der Dateien zur Visualisierung der Ergebnisse werden webbasierte grafische Ausgaben erzeugt. Die Ausgaben setzen sich aus Nodes (Knoten) und Edges (Verbindungen) zusammen. Ein Node stellt im Rahmen unserer Arbeit immer einen Nutzer dar. Nach dem Clustering stellt ein Node hingegen eine Benutzergruppe dar. Die Benutzer beziehungsweise Benutzergruppen sind unterschiedlich stark über Edges miteinander verbunden. Die Stärke dieser Verbindung wird über Analysen festgestellt. Die damit erstellte Physiksimulation dient der visuellen Darstellung der Methodenergebnisse. Die Edges wirken wie Gummibänder, die die Nodes zusammenhalten. Die Nodes hingegen versuchen möglichst viel Abstand zu anderen Nodes zu haben. Dies führt dazu, dass Nodes, die aufgrund der Analysen mit starken Edges verbunden sind, sich annähern und weniger stark verbundene Nodes sich voneinander entfernen. Sobald sich die Physiksimulation beruhigt hat, kann man Gruppen von Nodes erkennen sowie die Verbindungen zu anderen Gruppen.\n",
    "\n",
    "Die Analyseergebnisse können als HTML-Datei im Browser geöffnet werden und sind unter \"result/*\" zu finden.\n",
    "\n",
    "*Wir erzeugen beim beziehungsweise nach dem Clustering keine grafische Ausgabe, da dies bei den getesteten Datensätzen keine neuen Erkenntnisse gebracht hat.*"
   ]
  },
  {
   "cell_type": "markdown",
   "metadata": {
    "pycharm": {
     "name": "#%% md\n"
    }
   },
   "source": [
    "## 4. Configuration\n",
    "\n",
    "Die folgende Tabelle erklärt die Variablen, die im nächsten Code-Block definiert werden müssen. Die Logdatei muss, um richtig analysiert werden zu können, im XES-Dateiformat vorliegen und importiert werden.\n",
    "\n",
    "| variable | type | description| default|\n",
    "|:--|:--|:--|:--|\n",
    "|log_path | (path)| path to the XES File|`data/test.xes`|\n",
    "|use_networkx | (bool)| output via NetworkX or Pyvis| `False`|\n",
    "|filter_timeframe | (bool)| filter the timeframe of the traces| `False` |\n",
    "|filter_timeframe_intersecting | (bool)| use intersecting or contained| `False` |\n",
    "|filter_timeframe_start | (dateTime)| start of the Timeframe| `1970-01-01 00:00:00` |\n",
    "|filter_timeframe_end | (dateTime)| end of the Timeframe| `2038-12-31 00:00:00` |\n",
    "|filter_performance| (bool)| filter on Traceperformance| `False` |\n",
    "|filter_performance_min| (int)| minimum seconds of trace actions|`0` |\n",
    "|filter_performance_max |(int)| maximum seconds of trace actions|`360000` |\n",
    "\n",
    "Die Option `Pyvis` legt die Ergebnisse im Ordner `./result` ab, welcher schreibend Zugriff benötigt."
   ]
  },
  {
   "cell_type": "code",
   "execution_count": 41,
   "metadata": {
    "pycharm": {
     "name": "#%%\n"
    }
   },
   "outputs": [],
   "source": [
    "log_path = 'data/BPI_Challenge_2017_Offer_log.xes'\n",
    "\n",
    "use_networkx = False\n",
    "\n",
    "filter_timeframe = False\n",
    "filter_timeframe_intersecting  = False\n",
    "filter_timeframe_start = \"2011-03-09 00:00:00\"\n",
    "filter_timeframe_end = \"2011-03-09 00:00:00\"\n",
    "\n",
    "filter_performance = False\n",
    "filter_performance_min = 0\n",
    "filter_performance_max = 864000"
   ]
  },
  {
   "cell_type": "markdown",
   "metadata": {
    "pycharm": {
     "name": "#%% md\n"
    }
   },
   "source": [
    "## 5. Import\n",
    "Im folgenden Codeblock werden alle Bibliotheken geladen die im laufenden Skript benötigt werden. Wenn die Bibliotheken nicht gefunden werden können, können sie über den Packagemanager pip seperat nachinstalliert werden.\n",
    "\n",
    "**Unvollständige Liste der Pythonpackete (pip)**\n",
    " - pm4py\n",
    " - shutil\n",
    " - numpy\n",
    " - sklearn\n",
    " - scipy\n"
   ]
  },
  {
   "cell_type": "code",
   "execution_count": 42,
   "metadata": {
    "pycharm": {
     "name": "#%%\n"
    }
   },
   "outputs": [],
   "source": [
    "import shutil\n",
    "from pm4py.objects.log.importer.xes import importer as xes_importer\n",
    "from pm4py.algo.organizational_mining.sna import algorithm as sna\n",
    "from pm4py.visualization.sna import visualizer as sna_visualizer\n",
    "from pm4py.algo.organizational_mining.roles import algorithm as roles_discovery\n",
    "from pm4py.algo.organizational_mining.sna import util\n",
    "from pm4py.algo.filtering.log.timestamp import timestamp_filter\n",
    "from pm4py.algo.filtering.log.cases import case_filter\n",
    "from pm4py.algo.organizational_mining.local_diagnostics import algorithm as local_diagnostics\n",
    "from pathlib import Path"
   ]
  },
  {
   "cell_type": "markdown",
   "metadata": {
    "pycharm": {
     "name": "#%% md\n"
    }
   },
   "source": [
    "Der Ordner für die Exportergebnisse (result) wird in diesem Codeblock erstellt."
   ]
  },
  {
   "cell_type": "code",
   "execution_count": 43,
   "metadata": {
    "pycharm": {
     "name": "#%%\n"
    }
   },
   "outputs": [],
   "source": [
    "if not use_networkx:\n",
    "    Path(\"./result\").mkdir(parents=True, exist_ok=True)"
   ]
  },
  {
   "cell_type": "markdown",
   "metadata": {
    "pycharm": {
     "name": "#%% md\n"
    }
   },
   "source": [
    "Dieser Code-Block lädt den in 4. importierten Datensatz und wendet die eingestellten Filter an."
   ]
  },
  {
   "cell_type": "code",
   "execution_count": 44,
   "metadata": {
    "pycharm": {
     "name": "#%%\n"
    }
   },
   "outputs": [
    {
     "data": {
      "application/vnd.jupyter.widget-view+json": {
       "model_id": "902affd998d647479b7fb95cf3561b1a",
       "version_major": 2,
       "version_minor": 0
      },
      "text/plain": [
       "parsing log, completed traces ::   0%|          | 0/42995 [00:00<?, ?it/s]"
      ]
     },
     "metadata": {},
     "output_type": "display_data"
    }
   ],
   "source": [
    "log = xes_importer.apply(log_path)\n",
    "\n",
    "if filter_timeframe:\n",
    "    if not filter_timeframe_intersecting:\n",
    "        log = timestamp_filter.filter_traces_contained(   log, filter_timeframe_start, filter_timeframe_end)\n",
    "    else:\n",
    "        log = timestamp_filter.filter_traces_intersecting(log, filter_timeframe_start, filter_timeframe_end)\n",
    "\n",
    "if filter_performance:\n",
    "    log = case_filter.filter_case_performance(log, filter_performance_min, filter_performance_max)"
   ]
  },
  {
   "cell_type": "markdown",
   "metadata": {
    "pycharm": {
     "name": "#%% md\n"
    }
   },
   "source": [
    "## 6. Similar Activities (Skript)\n",
    "\n",
    "In diesem Abschnitt wird die Methode \"Similar Activities\" auf den zuvor importierten Datensatz angewendet, um die Ähnlichkeit der Aktivitäten der verschiedenen Nutzer (Nodes) zu untersuchen. Die Theorie hinter der hier angewandten Methode kann man unter 2.1 lesen.\n"
   ]
  },
  {
   "cell_type": "code",
   "execution_count": 45,
   "metadata": {
    "pycharm": {
     "name": "#%%\n"
    }
   },
   "outputs": [],
   "source": [
    "sa_metric  = sna.apply(log, variant=sna.Variants.JOINTACTIVITIES_LOG)\n",
    "\n",
    "if use_networkx:\n",
    "    gviz_ja_py = sna_visualizer.apply(sa_metric , variant=sna_visualizer.Variants.NETWORKX)\n",
    "    sna_visualizer.view(gviz_ja_py, variant=sna_visualizer.Variants.NETWORKX)\n",
    "else:\n",
    "    gviz_ja_py = sna_visualizer.apply(sa_metric , variant=sna_visualizer.Variants.PYVIS)\n",
    "    shutil.move(gviz_ja_py, \"result/similar_activities.html\")"
   ]
  },
  {
   "cell_type": "markdown",
   "metadata": {
    "pycharm": {
     "name": "#%% md\n"
    }
   },
   "source": [
    "## 7. Discover Roles (Skript)\n",
    "\n",
    "In diesem Abschnitt wird die Methode “Discover Roles” auf den zuvor importierten Datensatz angewendet, um die Rollen eines Nutzers (Node) anhand seiner durchgeführten Aktivitäten zu erkennen. Dabei werden Nutzer mit den gleichen Aktivitäten gruppiert. Die Theorie hinter der hier angewandten Methode kann man unter 2.2 lesen.\n",
    "\n",
    "Die Analyseergebnisse werden folgendermaßen ausgegeben:\n",
    "\n",
    "1. Rollenname auf Basis der Aktivitäten\n",
    "2. Benutzer mit der Angabe wie aktiv der Nutzer in der Rolle war\n",
    "3. `Leerzeile`"
   ]
  },
  {
   "cell_type": "code",
   "execution_count": 46,
   "metadata": {
    "pycharm": {
     "name": "#%%\n"
    }
   },
   "outputs": [
    {
     "name": "stdout",
     "output_type": "stream",
     "text": [
      "['O_Accepted']\n",
      "{'User_95': 438, 'User_29': 1710, 'User_90': 1147, 'User_115': 744, 'User_87': 749, 'User_119': 333, 'User_99': 616, 'User_117': 306, 'User_30': 970, 'User_109': 1235, 'User_114': 64, 'User_113': 352, 'User_75': 1036, 'User_112': 362, 'User_118': 766, 'User_68': 971, 'User_116': 191, 'User_102': 943, 'User_120': 157, 'User_127': 105, 'User_121': 220, 'User_125': 178, 'User_83': 561, 'User_2': 1, 'User_128': 219, 'User_107': 424, 'User_122': 95, 'User_126': 43, 'User_27': 181, 'User_123': 214, 'User_129': 367, 'User_100': 914, 'User_133': 115, 'User_93': 138, 'User_31': 181, 'User_131': 66, 'User_134': 72, 'User_53': 18, 'User_106': 25, 'User_137': 1}\n",
      "\n",
      "['O_Cancelled']\n",
      "{'User_17': 112, 'User_1': 9982, 'User_29': 603, 'User_19': 67, 'User_38': 75, 'User_27': 76, 'User_3': 203, 'User_8': 10, 'User_87': 244, 'User_119': 150, 'User_20': 35, 'User_95': 143, 'User_112': 138, 'User_2': 158, 'User_89': 1, 'User_115': 177, 'User_9': 16, 'User_75': 375, 'User_113': 162, 'User_30': 306, 'User_24': 135, 'User_99': 233, 'User_10': 142, 'User_70': 48, 'User_22': 6, 'User_14': 155, 'User_49': 157, 'User_11': 65, 'User_92': 2, 'User_4': 95, 'User_41': 140, 'User_109': 419, 'User_37': 115, 'User_110': 2, 'User_44': 37, 'User_90': 303, 'User_114': 22, 'User_34': 49, 'User_21': 52, 'User_36': 84, 'User_15': 103, 'User_18': 108, 'User_118': 314, 'User_117': 130, 'User_68': 396, 'User_108': 4, 'User_74': 29, 'User_13': 52, 'User_102': 282, 'User_52': 81, 'User_12': 41, 'User_43': 96, 'User_25': 34, 'User_116': 77, 'User_16': 105, 'User_71': 79, 'User_33': 45, 'User_7': 62, 'User_31': 114, 'User_23': 73, 'User_6': 1, 'User_85': 14, 'User_5': 200, 'User_73': 9, 'User_28': 120, 'User_47': 24, 'User_86': 12, 'User_142': 2, 'User_120': 49, 'User_35': 58, 'User_32': 70, 'User_39': 99, 'User_127': 28, 'User_125': 84, 'User_97': 17, 'User_42': 149, 'User_46': 86, 'User_61': 74, 'User_26': 82, 'User_103': 5, 'User_83': 228, 'User_60': 67, 'User_48': 89, 'User_53': 39, 'User_51': 61, 'User_121': 96, 'User_40': 60, 'User_107': 144, 'User_45': 52, 'User_76': 9, 'User_128': 99, 'User_122': 27, 'User_54': 50, 'User_50': 9, 'User_100': 220, 'User_58': 36, 'User_63': 51, 'User_126': 10, 'User_123': 56, 'User_57': 29, 'User_62': 35, 'User_55': 7, 'User_129': 122, 'User_56': 42, 'User_111': 9, 'User_93': 40, 'User_78': 48, 'User_59': 9, 'User_132': 10, 'User_133': 43, 'User_67': 63, 'User_64': 2, 'User_104': 12, 'User_91': 4, 'User_66': 36, 'User_77': 48, 'User_65': 18, 'User_80': 27, 'User_131': 22, 'User_79': 34, 'User_96': 15, 'User_84': 10, 'User_134': 30, 'User_69': 22, 'User_98': 11, 'User_81': 10, 'User_135': 1, 'User_105': 5, 'User_106': 12, 'User_137': 2, 'User_72': 12, 'User_94': 2, 'User_88': 1}\n",
      "\n",
      "['O_Create Offer', 'O_Created', 'O_Sent (mail and online)']\n",
      "{'User_17': 1649, 'User_38': 1545, 'User_19': 2292, 'User_52': 1990, 'User_3': 4610, 'User_75': 92, 'User_16': 1984, 'User_43': 1018, 'User_89': 72, 'User_15': 2045, 'User_28': 3631, 'User_7': 1459, 'User_2': 1966, 'User_20': 376, 'User_14': 1938, 'User_13': 940, 'User_31': 802, 'User_5': 3399, 'User_10': 4190, 'User_22': 481, 'User_8': 270, 'User_11': 1306, 'User_92': 166, 'User_24': 1700, 'User_85': 978, 'User_4': 2575, 'User_71': 2681, 'User_21': 1870, 'User_37': 2766, 'User_74': 638, 'User_30': 34, 'User_110': 30, 'User_49': 4630, 'User_12': 1827, 'User_108': 175, 'User_27': 1413, 'User_6': 143, 'User_47': 694, 'User_36': 1758, 'User_35': 2269, 'User_25': 852, 'User_44': 1661, 'User_18': 3154, 'User_9': 182, 'User_41': 2554, 'User_33': 741, 'User_34': 751, 'User_29': 68, 'User_95': 30, 'User_50': 142, 'User_117': 7, 'User_26': 1050, 'User_102': 25, 'User_109': 52, 'User_70': 1275, 'User_87': 93, 'User_99': 19, 'User_112': 2, 'User_73': 565, 'User_86': 505, 'User_101': 8, 'User_100': 15, 'User_23': 1100, 'User_76': 448, 'User_141': 6, 'User_119': 2, 'User_68': 25, 'User_97': 448, 'User_42': 3287, 'User_32': 1660, 'User_39': 2460, 'User_61': 3141, 'User_82': 18, 'User_46': 2747, 'User_90': 34, 'User_60': 2461, 'User_53': 1529, 'User_48': 2270, 'User_51': 2263, 'User_40': 2254, 'User_103': 20, 'User_116': 2, 'User_83': 27, 'User_45': 979, 'User_107': 7, 'User_57': 1654, 'User_63': 807, 'User_54': 960, 'User_58': 1089, 'User_121': 3, 'User_62': 505, 'User_93': 22, 'User_136': 2, 'User_55': 546, 'User_56': 1677, 'User_78': 1302, 'User_91': 529, 'User_59': 354, 'User_132': 356, 'User_111': 11, 'User_84': 659, 'User_77': 733, 'User_65': 636, 'User_67': 1511, 'User_104': 733, 'User_66': 843, 'User_79': 738, 'User_80': 883, 'User_96': 707, 'User_106': 20, 'User_118': 3, 'User_133': 2, 'User_72': 377, 'User_98': 352, 'User_81': 469, 'User_88': 257, 'User_69': 843, 'User_94': 343, 'User_135': 60, 'User_105': 369, 'User_142': 1}\n",
      "\n",
      "['O_Refused']\n",
      "{'User_68': 512, 'User_99': 374, 'User_90': 238, 'User_95': 269, 'User_75': 432, 'User_100': 213, 'User_29': 286, 'User_30': 429, 'User_115': 31, 'User_2': 14, 'User_101': 68, 'User_87': 457, 'User_27': 4, 'User_37': 5, 'User_120': 6, 'User_36': 7, 'User_102': 99, 'User_109': 289, 'User_41': 9, 'User_144': 46, 'User_44': 4, 'User_43': 4, 'User_21': 1, 'User_4': 8, 'User_25': 6, 'User_22': 5, 'User_5': 13, 'User_31': 26, 'User_73': 1, 'User_24': 10, 'User_47': 8, 'User_23': 9, 'User_15': 11, 'User_49': 9, 'User_13': 1, 'User_19': 8, 'User_86': 1, 'User_39': 11, 'User_28': 6, 'User_138': 58, 'User_18': 5, 'User_113': 2, 'User_10': 10, 'User_42': 13, 'User_16': 4, 'User_71': 5, 'User_32': 3, 'User_143': 29, 'User_124': 26, 'User_26': 4, 'User_20': 2, 'User_46': 3, 'User_38': 3, 'User_7': 6, 'User_83': 305, 'User_51': 4, 'User_53': 2, 'User_93': 103, 'User_76': 1, 'User_33': 1, 'User_3': 18, 'User_40': 11, 'User_45': 5, 'User_17': 2, 'User_11': 8, 'User_60': 4, 'User_85': 1, 'User_107': 4, 'User_136': 12, 'User_54': 2, 'User_12': 3, 'User_35': 1, 'User_139': 9, 'User_70': 5, 'User_61': 4, 'User_50': 1, 'User_56': 2, 'User_64': 1, 'User_62': 6, 'User_91': 3, 'User_106': 32, 'User_67': 10, 'User_55': 5, 'User_52': 2, 'User_65': 3, 'User_133': 1, 'User_84': 2, 'User_96': 1, 'User_66': 2, 'User_78': 5, 'User_140': 1, 'User_79': 4, 'User_88': 1, 'User_94': 2, 'User_58': 1, 'User_63': 1, 'User_69': 1}\n",
      "\n",
      "['O_Returned']\n",
      "{'User_116': 1690, 'User_119': 1193, 'User_117': 1479, 'User_112': 1515, 'User_113': 1650, 'User_118': 1738, 'User_120': 1184, 'User_75': 73, 'User_114': 407, 'User_127': 158, 'User_29': 120, 'User_95': 45, 'User_30': 77, 'User_100': 61, 'User_87': 63, 'User_99': 38, 'User_109': 75, 'User_90': 59, 'User_115': 12, 'User_102': 23, 'User_68': 76, 'User_125': 626, 'User_101': 17, 'User_121': 1986, 'User_2': 117, 'User_122': 994, 'User_123': 2261, 'User_124': 12, 'User_83': 44, 'User_126': 1585, 'User_27': 1286, 'User_107': 102, 'User_136': 10, 'User_93': 15, 'User_128': 2, 'User_139': 22, 'User_130': 173, 'User_131': 668, 'User_133': 472, 'User_129': 115, 'User_103': 1, 'User_53': 392, 'User_134': 522, 'User_140': 3, 'User_31': 3, 'User_137': 138, 'User_106': 3}\n",
      "\n",
      "['O_Sent (online only)']\n",
      "{'User_17': 27, 'User_89': 2, 'User_43': 17, 'User_7': 17, 'User_85': 10, 'User_5': 151, 'User_28': 101, 'User_4': 73, 'User_27': 14, 'User_37': 17, 'User_75': 4, 'User_24': 19, 'User_21': 35, 'User_25': 13, 'User_108': 1, 'User_2': 64, 'User_20': 1, 'User_14': 49, 'User_44': 40, 'User_29': 32, 'User_95': 12, 'User_50': 13, 'User_35': 51, 'User_18': 31, 'User_10': 31, 'User_3': 78, 'User_13': 13, 'User_41': 74, 'User_109': 8, 'User_34': 15, 'User_70': 21, 'User_99': 9, 'User_16': 27, 'User_49': 46, 'User_11': 31, 'User_112': 1, 'User_36': 48, 'User_101': 3, 'User_12': 31, 'User_31': 23, 'User_100': 3, 'User_19': 43, 'User_47': 14, 'User_74': 9, 'User_38': 9, 'User_22': 9, 'User_26': 30, 'User_119': 1, 'User_9': 6, 'User_87': 6, 'User_23': 48, 'User_92': 1, 'User_73': 1, 'User_33': 27, 'User_15': 21, 'User_71': 40, 'User_32': 22, 'User_30': 8, 'User_39': 34, 'User_52': 17, 'User_86': 6, 'User_60': 34, 'User_46': 23, 'User_48': 40, 'User_90': 11, 'User_83': 4, 'User_53': 1, 'User_102': 3, 'User_68': 1, 'User_42': 17, 'User_76': 2, 'User_45': 9, 'User_8': 1, 'User_58': 18, 'User_40': 24, 'User_57': 4, 'User_63': 22, 'User_62': 13, 'User_54': 13, 'User_93': 8, 'User_51': 18, 'User_136': 1, 'User_107': 1, 'User_59': 1, 'User_61': 21, 'User_84': 6, 'User_56': 9, 'User_103': 3, 'User_66': 15, 'User_67': 30, 'User_111': 1, 'User_77': 13, 'User_79': 7, 'User_65': 2, 'User_106': 1, 'User_104': 1, 'User_80': 11, 'User_133': 1, 'User_78': 5, 'User_105': 5, 'User_72': 2, 'User_69': 12, 'User_94': 1, 'User_88': 3}\n",
      "\n"
     ]
    }
   ],
   "source": [
    "roles = roles_discovery.apply(log)\n",
    "\n",
    "for x in roles:\n",
    "    print(x[0])\n",
    "    print(x[1])\n",
    "    print(\"\")"
   ]
  },
  {
   "cell_type": "markdown",
   "metadata": {
    "pycharm": {
     "name": "#%% md\n"
    }
   },
   "source": [
    "## 8. Handover Of Work (Skript)\n",
    "\n",
    "In diesem Abschnitt wird die Methode “Handover Of Work” auf den zuvor importierten Datensatz angewendet, um Nutzer herauszufinden, welche häufig miteinander arbeiten. Die Theorie hinter der hier angewandten Methode kann man unter 2.3 lesen.\n"
   ]
  },
  {
   "cell_type": "code",
   "execution_count": 47,
   "metadata": {
    "pycharm": {
     "name": "#%%\n"
    }
   },
   "outputs": [],
   "source": [
    "hw_values = sna.apply(log, variant=sna.Variants.HANDOVER_LOG)\n",
    "\n",
    "if use_networkx:\n",
    "    gviz_hw_py = sna_visualizer.apply(hw_values, variant=sna_visualizer.Variants.NETWORKX)\n",
    "    sna_visualizer.view(gviz_hw_py, variant=sna_visualizer.Variants.NETWORKX)\n",
    "else:\n",
    "    gviz_hw_py = sna_visualizer.apply(hw_values , variant=sna_visualizer.Variants.PYVIS)\n",
    "    shutil.move(gviz_hw_py, \"result/handover_of_work.html\")"
   ]
  },
  {
   "cell_type": "markdown",
   "metadata": {
    "pycharm": {
     "name": "#%% md\n"
    }
   },
   "source": [
    "## 9. Clustering Similar Activities\n",
    "\n",
    "In diesem Abschnitt werden die unter 6 analysierten Nutzer in Nutzergruppen zusammengefasst, welche gleiche Aufgaben verrichtet haben. Dies soll die Übersichtlichkeit erhöhen und erste Schlussfolgerungen ermöglichen.\n",
    "\n",
    "Die Analyseergebnisse werden folgendermaßen ausgegeben:\n",
    "\n",
    "1. Cluster\n",
    "2. Benutzerliste\n",
    "3. `Leerzeile`"
   ]
  },
  {
   "cell_type": "code",
   "execution_count": 48,
   "metadata": {
    "pycharm": {
     "name": "#%%\n"
    }
   },
   "outputs": [
    {
     "name": "stdout",
     "output_type": "stream",
     "text": [
      "Gruppe: -1\n",
      "['User_1', 'User_10', 'User_100', 'User_101', 'User_102', 'User_103', 'User_104', 'User_105', 'User_106', 'User_107', 'User_108', 'User_109', 'User_11', 'User_110', 'User_111', 'User_112', 'User_113', 'User_114', 'User_115', 'User_116', 'User_117', 'User_118', 'User_119', 'User_12', 'User_120', 'User_121', 'User_122', 'User_123', 'User_124', 'User_125', 'User_126', 'User_127', 'User_128', 'User_129', 'User_13', 'User_130', 'User_131', 'User_132', 'User_133', 'User_134', 'User_135', 'User_136', 'User_137', 'User_138', 'User_139', 'User_14', 'User_140', 'User_141', 'User_142', 'User_143', 'User_144', 'User_15', 'User_16', 'User_17', 'User_18', 'User_19', 'User_2', 'User_20', 'User_21', 'User_22', 'User_23', 'User_24', 'User_25', 'User_26', 'User_27', 'User_28', 'User_29', 'User_3', 'User_30', 'User_31', 'User_32', 'User_33', 'User_34', 'User_35', 'User_36', 'User_37', 'User_38', 'User_39', 'User_4', 'User_40', 'User_41', 'User_42', 'User_43', 'User_44', 'User_45', 'User_46', 'User_47', 'User_48', 'User_49', 'User_5', 'User_50', 'User_51', 'User_52', 'User_53', 'User_54', 'User_55', 'User_56', 'User_57', 'User_58', 'User_59', 'User_6', 'User_60', 'User_61', 'User_62', 'User_63', 'User_64', 'User_65', 'User_66', 'User_67', 'User_68', 'User_69', 'User_7', 'User_70', 'User_71', 'User_72', 'User_73', 'User_74', 'User_75', 'User_76', 'User_77', 'User_78', 'User_79', 'User_8', 'User_80', 'User_81', 'User_82', 'User_83', 'User_84', 'User_85', 'User_86', 'User_87', 'User_88', 'User_89', 'User_9', 'User_90', 'User_91', 'User_92', 'User_93', 'User_94', 'User_95', 'User_96', 'User_97', 'User_98', 'User_99']\n",
      "\n"
     ]
    },
    {
     "name": "stderr",
     "output_type": "stream",
     "text": [
      "/Users/moritzwetzel/PycharmProjects/PraxisModul1_PM4PY/venv/lib/python3.10/site-packages/sklearn/cluster/_affinity_propagation.py:250: ConvergenceWarning: Affinity propagation did not converge, this model will not have any cluster centers.\n",
      "  warnings.warn(\n",
      "/Users/moritzwetzel/PycharmProjects/PraxisModul1_PM4PY/venv/lib/python3.10/site-packages/sklearn/cluster/_affinity_propagation.py:528: ConvergenceWarning: This model does not have any cluster centers because affinity propagation did not converge. Labeling every sample as '-1'.\n",
      "  warnings.warn(\n"
     ]
    }
   ],
   "source": [
    "clustering_sa = util.cluster_affinity_propagation(sa_metric)\n",
    "\n",
    "for group in clustering_sa:\n",
    "    print(\"Gruppe: \" + group)\n",
    "    print(clustering_sa[group])\n",
    "    print(\"\")\n"
   ]
  },
  {
   "cell_type": "markdown",
   "metadata": {
    "pycharm": {
     "name": "#%% md\n"
    }
   },
   "source": [
    "## 10. Clustering Handover Of Work\n",
    "\n",
    "In diesem Abschnitt werden die unter 8 analysierten Nutzer als Gruppe zusammengefasst, welche häufig miteinander arbeiten. Dies soll die Übersichtlichkeit erhöhen und erste Schlussfolgerungen ermöglichen.\n",
    "\n",
    "Die Analyseergebnisse werden folgendermaßen ausgegeben:\n",
    "\n",
    "1. Cluster\n",
    "2. Benutzerliste\n",
    "3. `Leerzeile`"
   ]
  },
  {
   "cell_type": "code",
   "execution_count": 49,
   "metadata": {
    "pycharm": {
     "name": "#%%\n"
    }
   },
   "outputs": [
    {
     "name": "stdout",
     "output_type": "stream",
     "text": [
      "Gruppe: 4\n",
      "['User_1', 'User_100', 'User_101', 'User_102', 'User_103', 'User_104', 'User_105', 'User_106', 'User_107', 'User_108', 'User_109', 'User_110', 'User_111', 'User_114', 'User_115', 'User_124', 'User_125', 'User_127', 'User_128', 'User_129', 'User_13', 'User_130', 'User_131', 'User_132', 'User_133', 'User_134', 'User_135', 'User_136', 'User_137', 'User_138', 'User_139', 'User_140', 'User_141', 'User_142', 'User_143', 'User_144', 'User_20', 'User_22', 'User_23', 'User_25', 'User_26', 'User_29', 'User_30', 'User_31', 'User_33', 'User_34', 'User_43', 'User_45', 'User_47', 'User_50', 'User_54', 'User_55', 'User_58', 'User_59', 'User_6', 'User_62', 'User_63', 'User_64', 'User_65', 'User_66', 'User_68', 'User_69', 'User_70', 'User_72', 'User_73', 'User_74', 'User_75', 'User_76', 'User_77', 'User_79', 'User_8', 'User_80', 'User_81', 'User_82', 'User_83', 'User_84', 'User_85', 'User_86', 'User_87', 'User_88', 'User_89', 'User_9', 'User_90', 'User_91', 'User_92', 'User_93', 'User_94', 'User_95', 'User_96', 'User_97', 'User_98', 'User_99']\n",
      "\n",
      "Gruppe: 0\n",
      "['User_10']\n",
      "\n",
      "Gruppe: 1\n",
      "['User_11']\n",
      "\n",
      "Gruppe: 2\n",
      "['User_112', 'User_113', 'User_116', 'User_117', 'User_118', 'User_119', 'User_120', 'User_121', 'User_122', 'User_123', 'User_126']\n",
      "\n",
      "Gruppe: 3\n",
      "['User_12']\n",
      "\n",
      "Gruppe: 5\n",
      "['User_14']\n",
      "\n",
      "Gruppe: 6\n",
      "['User_15']\n",
      "\n",
      "Gruppe: 7\n",
      "['User_16']\n",
      "\n",
      "Gruppe: 8\n",
      "['User_17']\n",
      "\n",
      "Gruppe: 9\n",
      "['User_18']\n",
      "\n",
      "Gruppe: 10\n",
      "['User_19']\n",
      "\n",
      "Gruppe: 11\n",
      "['User_2']\n",
      "\n",
      "Gruppe: 12\n",
      "['User_21']\n",
      "\n",
      "Gruppe: 13\n",
      "['User_24']\n",
      "\n",
      "Gruppe: 14\n",
      "['User_27']\n",
      "\n",
      "Gruppe: 15\n",
      "['User_28']\n",
      "\n",
      "Gruppe: 16\n",
      "['User_3']\n",
      "\n",
      "Gruppe: 17\n",
      "['User_32']\n",
      "\n",
      "Gruppe: 18\n",
      "['User_35']\n",
      "\n",
      "Gruppe: 19\n",
      "['User_36']\n",
      "\n",
      "Gruppe: 20\n",
      "['User_37']\n",
      "\n",
      "Gruppe: 21\n",
      "['User_38']\n",
      "\n",
      "Gruppe: 22\n",
      "['User_39']\n",
      "\n",
      "Gruppe: 23\n",
      "['User_4']\n",
      "\n",
      "Gruppe: 24\n",
      "['User_40']\n",
      "\n",
      "Gruppe: 25\n",
      "['User_41']\n",
      "\n",
      "Gruppe: 26\n",
      "['User_42']\n",
      "\n",
      "Gruppe: 27\n",
      "['User_44']\n",
      "\n",
      "Gruppe: 28\n",
      "['User_46']\n",
      "\n",
      "Gruppe: 29\n",
      "['User_48']\n",
      "\n",
      "Gruppe: 30\n",
      "['User_49']\n",
      "\n",
      "Gruppe: 31\n",
      "['User_5']\n",
      "\n",
      "Gruppe: 32\n",
      "['User_51']\n",
      "\n",
      "Gruppe: 33\n",
      "['User_52']\n",
      "\n",
      "Gruppe: 34\n",
      "['User_53']\n",
      "\n",
      "Gruppe: 35\n",
      "['User_56']\n",
      "\n",
      "Gruppe: 36\n",
      "['User_57']\n",
      "\n",
      "Gruppe: 37\n",
      "['User_60']\n",
      "\n",
      "Gruppe: 38\n",
      "['User_61']\n",
      "\n",
      "Gruppe: 39\n",
      "['User_67']\n",
      "\n",
      "Gruppe: 40\n",
      "['User_7']\n",
      "\n",
      "Gruppe: 41\n",
      "['User_71']\n",
      "\n",
      "Gruppe: 42\n",
      "['User_78']\n",
      "\n"
     ]
    }
   ],
   "source": [
    "clustering_hw = util.cluster_affinity_propagation(hw_values)\n",
    "for group in clustering_hw:\n",
    "    print(\"Gruppe: \" + group)\n",
    "    print(clustering_hw[group])\n",
    "    print(\"\")"
   ]
  },
  {
   "cell_type": "code",
   "execution_count": 50,
   "metadata": {
    "pycharm": {
     "name": "#%%\n"
    }
   },
   "outputs": [
    {
     "name": "stdout",
     "output_type": "stream",
     "text": [
      "\n",
      "group_relative_focus\n",
      "{}\n",
      "\n",
      "group_relative_stake\n",
      "{}\n",
      "\n",
      "group_coverage\n",
      "{}\n",
      "\n",
      "group_member_contribution\n",
      "{}\n"
     ]
    }
   ],
   "source": [
    "# this applies the organizational mining from an attribute that is in each event, describing the group that is performing the task.\n",
    "ld = local_diagnostics.apply_from_group_attribute(log)\n",
    "# GROUP RELATIVE FOCUS (on a given type of work) specifies how much a resource group performed this type of work\n",
    "# compared to the overall workload of the group. It can be used to measure how the workload of a resource group\n",
    "# is distributed over different types of work, i.e., work diversification of the group.\n",
    "print(\"\\ngroup_relative_focus\")\n",
    "print(ld[\"group_relative_focus\"])\n",
    "# GROUP RELATIVE STAKE (in a given type of work) specifies how much this type of work was performed by a certain\n",
    "# resource group among all groups. It can be used to measure how the workload devoted to a certain type of work is\n",
    "# distributed over resource groups in an organizational model, i.e., work participation by different groups.\n",
    "print(\"\\ngroup_relative_stake\")\n",
    "print(ld[\"group_relative_stake\"])\n",
    "# GROUP COVERAGE with respect to a given type of work specifies the proportion of members of a resource group that\n",
    "# performed this type of work.\n",
    "print(\"\\ngroup_coverage\")\n",
    "print(ld[\"group_coverage\"])\n",
    "# GROUP MEMBER CONTRIBUTION of a member of a resource group with respect to the given type of work specifies how\n",
    "# much of this type of work by the group was performed by the member. It can be used to measure how the workload\n",
    "# of the entire group devoted to a certain type of work is distributed over the group members.\n",
    "print(\"\\ngroup_member_contribution\")\n",
    "print(ld[\"group_member_contribution\"])\n"
   ]
  }
 ],
 "metadata": {
  "kernelspec": {
   "display_name": "Python 3 (ipykernel)",
   "language": "python",
   "name": "python3"
  },
  "language_info": {
   "codemirror_mode": {
    "name": "ipython",
    "version": 3
   },
   "file_extension": ".py",
   "mimetype": "text/x-python",
   "name": "python",
   "nbconvert_exporter": "python",
   "pygments_lexer": "ipython3",
   "version": "3.10.0"
  }
 },
 "nbformat": 4,
 "nbformat_minor": 1
}