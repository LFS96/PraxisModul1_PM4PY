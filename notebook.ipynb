{
 "cells": [
  {
   "cell_type": "markdown",
   "metadata": {},
   "source": [
    "[Markdown Guide](https://docs.gitlab.com/ee/user/markdown.html)"
   ]
  },
  {
   "cell_type": "markdown",
   "source": [
    "# Praxis Modul I\n",
    "## SoSe 2022 - HS Mainz\n",
    "\n",
    "### Sozial Network Analyse\n",
    "\n",
    "Untersuchen von sozialen Netzwerken mithilfe von PM4PY.\n",
    "\n",
    "Durchgeführt von\n",
    "\n",
    "| Student | Matrikel-Nummer |\n",
    "|:-- |:--|\n",
    "|Moritz Wetzel | 123456|\n",
    "|Till Waller | 123456|\n",
    "Fabian Harmsen| 123456|\n",
    "\n"
   ],
   "metadata": {
    "collapsed": false
   }
  },
  {
   "cell_type": "markdown",
   "source": [
    "## Erklärung der Grafischen Ergebnisse der `Similar Activities` und `Handover of Work`-Analysen\n",
    "*Wir erzeugen beim bzw nach dem Clustering keine Grafiken, da dies in den Getestetn Datensätzen keinen Mehrwert erzeugt hätte*\n",
    "\n",
    "Bei den obengenannten Methoden werden Grafische Ausgaben erzeugt.\n",
    "Diese Ausgaben haben zwei Basis Komponenten, Nodes (Knoten) und Edges (Verbindungen).\n",
    "\n",
    "In unseren Analysen ist ein Node immer ein Nutzer (bzw. nach dem Clustering eine Benutzergruppe).\n",
    "Ein Edge ist hingegen die Verbindung zwischen den einzelnen Nodes. Die Stärke der einzelnen Nodes wird durch die Analysen bestimmt und entsprechend angewendet.\n",
    "\n",
    "Auf dieser Grundlage wird dann eine Physiksimulation erstellt.\n",
    "Dabei wirken die Edges wie Gummibänder, die die Nodes zusammenhalten. Während die Nodes versuchen möglichst viel Abstand zu anderen Nodes zu haben.\n",
    "Diese Konstellation führt dazu, dass Nodes die aufgrund der Analyse mit starken Edges verbunden sind zusammenrücken und wenige stark verbunde Nodes auseinander treiben.\n",
    "Sobald sich die Physiksimulation beruhigt hat, kann man so Gruppen von Nodes erkennen und auch die Verbindungsnodes zu anderen Gruppen,"
   ],
   "metadata": {
    "collapsed": false
   }
  },
  {
   "cell_type": "markdown",
   "metadata": {},
   "source": [
    "# Configuration\n",
    "Die unten stehende Table erklärt die Funktion der Variablen im nächsten Code-Block.\n",
    "\n",
    "| variable | type | description| default|\n",
    "|:--|:--|:--|:--|\n",
    "|log_path | (path)| path to the XES File|`data/test.xes`|\n",
    "|use_networkx | (bool)| output via NetworkX or Pyvis| `False`|\n",
    "|filter_timeframe | (bool)| filter the timeframe of the traces| `False` |\n",
    "|filter_timeframe_intersecting | (bool)| use intersecting or contained| `False` |\n",
    "|filter_timeframe_start | (dateTime)| start of the Timeframe| `1970-01-01 00:00:00` |\n",
    "|filter_timeframe_end | (dateTime)| end of the Timeframe| `2038-12-31 00:00:00` |\n",
    "|filter_performance| (bool)| filter on Traceperformance| `False` |\n",
    "|filter_performance_min| (int)| minimum seconds of trace actions|`0` |\n",
    "|filter_performance_max |(int)| maximum seconds of trace actions|`360000` |\n",
    "\n",
    "Die Option `Pyvis` legt die Ergebnisse im Ordner `./result` ab, dieser muss beschreibbar sein."
   ]
  },
  {
   "cell_type": "code",
   "execution_count": 72,
   "metadata": {
    "pycharm": {
     "name": "#%%\n"
    }
   },
   "outputs": [],
   "source": [
    "log_path = 'data/BPI_Challenge_2017.xes'\n",
    "\n",
    "use_networkx = False\n",
    "\n",
    "filter_timeframe = False\n",
    "filter_timeframe_intersecting  = False\n",
    "filter_timeframe_start = \"2011-03-09 00:00:00\"\n",
    "filter_timeframe_end = \"2011-03-09 00:00:00\"\n",
    "\n",
    "filter_performance = False\n",
    "filter_performance_min = 0\n",
    "filter_performance_max = 864000"
   ]
  },
  {
   "cell_type": "markdown",
   "metadata": {},
   "source": [
    "#### Import\n",
    "Im folgenden Codeblock werden alle Bibliotheken geladen die im laufenden Script benötigt werden.\n",
    "Wenn diese Bibliotheken nicht geladen werden können, wird der Script nicht funktionieren.\n",
    "\n",
    "**Unvollständige Liste der Pythonpackete (pip)**\n",
    " - pm4py\n",
    " - shutil\n",
    " - numpy\n",
    " - sklearn\n",
    " - scipy\n"
   ]
  },
  {
   "cell_type": "code",
   "execution_count": 73,
   "metadata": {
    "pycharm": {
     "name": "#%%\n"
    }
   },
   "outputs": [],
   "source": [
    "import shutil\n",
    "from pm4py.objects.log.importer.xes import importer as xes_importer\n",
    "\n",
    "from pm4py.algo.organizational_mining.sna import algorithm as sna\n",
    "from pm4py.visualization.sna import visualizer as sna_visualizer\n",
    "from pm4py.algo.organizational_mining.roles import algorithm as roles_discovery\n",
    "from pm4py.algo.organizational_mining.sna import util\n",
    "from pm4py.algo.filtering.log.timestamp import timestamp_filter\n",
    "from pm4py.algo.filtering.log.cases import case_filter\n",
    "import pm4py\n",
    "import os\n",
    "from pm4py.algo.organizational_mining.local_diagnostics import algorithm as local_diagnostics"
   ]
  },
  {
   "cell_type": "markdown",
   "metadata": {},
   "source": [
    "#### Allgemeiner Importskript\n",
    "Läd die in der Konfig angegebenen Datensatz und wendet die eingestellten Filter an."
   ]
  },
  {
   "cell_type": "code",
   "execution_count": 74,
   "metadata": {
    "pycharm": {
     "name": "#%%\n"
    }
   },
   "outputs": [
    {
     "data": {
      "text/plain": "parsing log, completed traces ::   0%|          | 0/31509 [00:00<?, ?it/s]",
      "application/vnd.jupyter.widget-view+json": {
       "version_major": 2,
       "version_minor": 0,
       "model_id": "1d55258ada454d7b9394014a0e85a093"
      }
     },
     "metadata": {},
     "output_type": "display_data"
    }
   ],
   "source": [
    "log = xes_importer.apply(log_path)\n",
    "\n",
    "if filter_timeframe:\n",
    "    if not filter_timeframe_intersecting:\n",
    "        log = timestamp_filter.filter_traces_contained(   log, filter_timeframe_start, filter_timeframe_end)\n",
    "    else:\n",
    "        log = timestamp_filter.filter_traces_intersecting(log, filter_timeframe_start, filter_timeframe_end)\n",
    "\n",
    "if filter_performance:\n",
    "    log = case_filter.filter_case_performance(log, filter_performance_min, filter_performance_max)"
   ]
  },
  {
   "cell_type": "markdown",
   "metadata": {},
   "source": [
    "**Similar Activities**\n",
    "Berechtet wie ähnlich die aktivitäten der Benutzer sind\n",
    "\n",
    "Ergebnis: result/similar_activities.html"
   ]
  },
  {
   "cell_type": "code",
   "execution_count": 75,
   "metadata": {
    "pycharm": {
     "name": "#%%\n"
    }
   },
   "outputs": [],
   "source": [
    "sa_metric  = sna.apply(log, variant=sna.Variants.JOINTACTIVITIES_LOG)\n",
    "\n",
    "if use_networkx:\n",
    "    gviz_ja_py = sna_visualizer.apply(sa_metric , variant=sna_visualizer.Variants.NETWORKX)\n",
    "    sna_visualizer.view(gviz_ja_py, variant=sna_visualizer.Variants.NETWORKX)\n",
    "else:\n",
    "    gviz_ja_py = sna_visualizer.apply(sa_metric , variant=sna_visualizer.Variants.PYVIS)\n",
    "    shutil.move(gviz_ja_py, \"result/similar_activities.html\")"
   ]
  },
  {
   "cell_type": "markdown",
   "metadata": {},
   "source": [
    "Discover Roles\n",
    "\n",
    "Erkennt die Rollen eines Benutzers anhand der durchgeführten Aktivitäten.\n",
    "Nutzer, die dieselben Aktivitäten werden zusammen gruppiert.\n",
    "\n",
    "**Ausgabeformat**\n",
    "1. Rollenname auf basis der Aktivitäten\n",
    "2. Benutzer mit der Angabe wie aktiv der Nutzer in der Rolle war\n",
    "3. `Blank Row`"
   ]
  },
  {
   "cell_type": "code",
   "execution_count": 76,
   "metadata": {
    "pycharm": {
     "name": "#%%\n"
    }
   },
   "outputs": [
    {
     "name": "stdout",
     "output_type": "stream",
     "text": [
      "['A_Accepted', 'A_Complete', 'O_Create Offer', 'O_Created', 'O_Sent (mail and online)', 'W_Complete application']\n",
      "{'User_52': 4916, 'User_38': 4084, 'User_19': 5039, 'User_17': 4555, 'User_3': 11443, 'User_31': 2061, 'User_43': 3157, 'User_16': 5681, 'User_21': 4145, 'User_15': 5692, 'User_108': 586, 'User_89': 196, 'User_28': 8097, 'User_7': 3600, 'User_41': 6064, 'User_22': 1160, 'User_110': 75, 'User_10': 10090, 'User_11': 3059, 'User_13': 2570, 'User_20': 1018, 'User_37': 6965, 'User_71': 6505, 'User_74': 1532, 'User_8': 522, 'User_5': 8396, 'User_14': 5479, 'User_4': 6170, 'User_75': 251, 'User_2': 5111, 'User_24': 5066, 'User_92': 422, 'User_85': 1911, 'User_6': 288, 'User_44': 3865, 'User_27': 3419, 'User_49': 12623, 'User_36': 4412, 'User_47': 1550, 'User_35': 5790, 'User_30': 108, 'User_87': 213, 'User_25': 1941, 'User_18': 7642, 'User_12': 4627, 'User_9': 600, 'User_34': 1837, 'User_33': 1691, 'User_26': 2990, 'User_29': 222, 'User_95': 103, 'User_50': 372, 'User_70': 2653, 'User_109': 198, 'User_102': 57, 'User_73': 1135, 'User_99': 56, 'User_86': 1053, 'User_23': 2815, 'User_100': 39, 'User_141': 145, 'User_76': 752, 'User_32': 4064, 'User_97': 1360, 'User_68': 91, 'User_39': 5876, 'User_42': 7732, 'User_61': 7940, 'User_82': 43, 'User_46': 7367, 'User_103': 78, 'User_101': 22, 'User_60': 5886, 'User_53': 4482, 'User_48': 5823, 'User_90': 90, 'User_51': 5302, 'User_40': 5762, 'User_83': 77, 'User_45': 2628, 'User_58': 2385, 'User_107': 17, 'User_63': 2252, 'User_54': 2346, 'User_57': 3973, 'User_62': 1142, 'User_93': 76, 'User_55': 1550, 'User_56': 4573, 'User_78': 3640, 'User_91': 1877, 'User_59': 885, 'User_66': 2437, 'User_132': 1161, 'User_111': 24, 'User_104': 2401, 'User_65': 1729, 'User_77': 2315, 'User_67': 3690, 'User_84': 1829, 'User_79': 1975, 'User_80': 2564, 'User_96': 2108, 'User_64': 268, 'User_106': 60, 'User_69': 2558, 'User_81': 1472, 'User_98': 1119, 'User_88': 772, 'User_72': 1212, 'User_94': 1135, 'User_135': 192, 'User_105': 1037, 'User_142': 14, 'User_117': 7, 'User_112': 8, 'User_119': 2, 'User_116': 2, 'User_121': 3, 'User_136': 2, 'User_118': 4, 'User_133': 2, 'User_1': 17120, 'User_144': 26, 'User_120': 3, 'User_138': 28, 'User_146': 4, 'User_143': 21, 'User_145': 8, 'User_149': 2, 'User_140': 1}\n",
      "\n",
      "['A_Cancelled', 'A_Concept', 'A_Create Application', 'W_Handle leads']\n",
      "{'User_1': 82826, 'User_27': 207, 'User_8': 84, 'User_112': 8, 'User_20': 263, 'User_70': 428, 'User_49': 851, 'User_2': 1368, 'User_10': 1197, 'User_92': 37, 'User_11': 267, 'User_41': 522, 'User_17': 720, 'User_9': 229, 'User_24': 689, 'User_4': 972, 'User_110': 11, 'User_14': 1881, 'User_34': 196, 'User_36': 977, 'User_18': 957, 'User_74': 175, 'User_19': 469, 'User_3': 1153, 'User_13': 358, 'User_38': 373, 'User_16': 1448, 'User_87': 50, 'User_29': 63, 'User_37': 473, 'User_33': 166, 'User_52': 643, 'User_7': 342, 'User_43': 779, 'User_23': 766, 'User_85': 145, 'User_21': 416, 'User_102': 13, 'User_5': 1744, 'User_12': 354, 'User_113': 3, 'User_73': 83, 'User_31': 497, 'User_47': 292, 'User_25': 506, 'User_142': 12, 'User_35': 476, 'User_28': 1222, 'User_22': 59, 'User_15': 1038, 'User_44': 265, 'User_32': 284, 'User_71': 328, 'User_95': 31, 'User_39': 450, 'User_86': 114, 'User_117': 1, 'User_42': 573, 'User_46': 1082, 'User_30': 33, 'User_75': 67, 'User_61': 749, 'User_26': 1025, 'User_97': 12, 'User_109': 56, 'User_60': 486, 'User_51': 339, 'User_40': 675, 'User_68': 35, 'User_45': 658, 'User_48': 367, 'User_76': 46, 'User_53': 178, 'User_54': 579, 'User_90': 23, 'User_50': 79, 'User_125': 2, 'User_58': 277, 'User_63': 274, 'User_57': 339, 'User_62': 103, 'User_55': 40, 'User_111': 13, 'User_93': 24, 'User_78': 185, 'User_132': 1, 'User_64': 243, 'User_67': 274, 'User_56': 206, 'User_104': 25, 'User_66': 275, 'User_103': 21, 'User_107': 3, 'User_99': 15, 'User_77': 66, 'User_80': 149, 'User_96': 78, 'User_84': 47, 'User_129': 1, 'User_123': 1, 'User_69': 100, 'User_79': 86, 'User_119': 1, 'User_135': 1, 'User_105': 26, 'User_83': 21, 'User_72': 32, 'User_88': 7, 'User_6': 46, 'User_120': 4, 'User_144': 30, 'User_141': 46, 'User_145': 2, 'User_118': 1, 'User_143': 15, 'User_146': 2, 'User_147': 2, 'User_82': 10, 'User_91': 42, 'User_138': 19, 'User_59': 53, 'User_65': 55, 'User_98': 6, 'User_81': 31, 'User_89': 20, 'User_108': 6, 'User_100': 8, 'User_101': 6, 'User_106': 16, 'User_94': 14}\n",
      "\n",
      "['A_Denied', 'O_Refused']\n",
      "{'User_68': 918, 'User_99': 664, 'User_95': 486, 'User_29': 500, 'User_90': 428, 'User_100': 385, 'User_75': 777, 'User_30': 772, 'User_120': 8, 'User_115': 53, 'User_2': 24, 'User_27': 7, 'User_37': 11, 'User_87': 821, 'User_13': 3, 'User_101': 128, 'User_52': 5, 'User_102': 178, 'User_36': 15, 'User_41': 15, 'User_109': 514, 'User_144': 85, 'User_44': 8, 'User_21': 2, 'User_43': 8, 'User_25': 11, 'User_4': 16, 'User_14': 6, 'User_31': 47, 'User_22': 8, 'User_5': 26, 'User_73': 2, 'User_86': 2, 'User_24': 16, 'User_23': 18, 'User_15': 21, 'User_47': 13, 'User_49': 16, 'User_19': 14, 'User_39': 22, 'User_28': 13, 'User_71': 10, 'User_138': 106, 'User_18': 10, 'User_113': 3, 'User_32': 6, 'User_10': 21, 'User_42': 26, 'User_16': 8, 'User_143': 48, 'User_124': 48, 'User_83': 543, 'User_26': 7, 'User_20': 4, 'User_46': 6, 'User_38': 5, 'User_7': 10, 'User_51': 7, 'User_3': 33, 'User_53': 4, 'User_93': 188, 'User_76': 2, 'User_17': 5, 'User_33': 2, 'User_45': 8, 'User_40': 19, 'User_11': 16, 'User_60': 6, 'User_107': 8, 'User_85': 2, 'User_136': 20, 'User_54': 4, 'User_35': 3, 'User_12': 5, 'User_139': 16, 'User_70': 9, 'User_61': 7, 'User_78': 10, 'User_50': 2, 'User_56': 4, 'User_64': 2, 'User_62': 10, 'User_91': 5, 'User_77': 1, 'User_106': 59, 'User_67': 18, 'User_55': 9, 'User_65': 5, 'User_84': 4, 'User_79': 7, 'User_133': 2, 'User_96': 2, 'User_66': 4, 'User_140': 2, 'User_94': 3, 'User_88': 2, 'User_58': 2, 'User_63': 2, 'User_69': 2}\n",
      "\n",
      "['A_Incomplete']\n",
      "{'User_115': 181, 'User_101': 1102, 'User_114': 10, 'User_95': 708, 'User_100': 2486, 'User_87': 1361, 'User_75': 1713, 'User_29': 1889, 'User_102': 609, 'User_99': 1263, 'User_109': 1234, 'User_30': 1617, 'User_117': 31, 'User_90': 1329, 'User_112': 133, 'User_113': 204, 'User_68': 1274, 'User_2': 11, 'User_119': 120, 'User_9': 2, 'User_34': 4, 'User_3': 8, 'User_120': 256, 'User_116': 98, 'User_70': 4, 'User_17': 9, 'User_49': 5, 'User_43': 1, 'User_14': 10, 'User_5': 14, 'User_33': 4, 'User_13': 1, 'User_23': 37, 'User_18': 8, 'User_92': 1, 'User_37': 4, 'User_16': 4, 'User_44': 2, 'User_10': 6, 'User_47': 1, 'User_118': 122, 'User_28': 8, 'User_25': 1, 'User_127': 11, 'User_121': 322, 'User_31': 258, 'User_4': 4, 'User_20': 6, 'User_124': 249, 'User_122': 225, 'User_83': 977, 'User_46': 4, 'User_42': 2, 'User_32': 1, 'User_41': 6, 'User_123': 463, 'User_93': 464, 'User_39': 3, 'User_126': 409, 'User_125': 116, 'User_40': 1, 'User_71': 4, 'User_27': 313, 'User_35': 3, 'User_24': 2, 'User_133': 361, 'User_60': 2, 'User_26': 1, 'User_85': 2, 'User_54': 4, 'User_107': 113, 'User_136': 94, 'User_51': 5, 'User_11': 1, 'User_52': 2, 'User_36': 9, 'User_139': 9, 'User_45': 1, 'User_48': 2, 'User_131': 186, 'User_130': 33, 'User_57': 1, 'User_106': 140, 'User_129': 29, 'User_132': 1, 'User_61': 1, 'User_53': 108, 'User_84': 2, 'User_134': 165, 'User_63': 1, 'User_128': 3, 'User_80': 1, 'User_67': 3, 'User_137': 35, 'User_140': 4, 'User_12': 3, 'User_66': 1, 'User_64': 1, 'User_72': 1, 'User_21': 1, 'User_105': 1}\n",
      "\n",
      "['A_Pending', 'O_Accepted']\n",
      "{'User_115': 1488, 'User_90': 2294, 'User_95': 876, 'User_119': 666, 'User_75': 2072, 'User_87': 1498, 'User_68': 1942, 'User_29': 3420, 'User_30': 1940, 'User_99': 1232, 'User_112': 724, 'User_113': 704, 'User_114': 128, 'User_117': 612, 'User_109': 2470, 'User_118': 1532, 'User_116': 382, 'User_102': 1886, 'User_120': 314, 'User_127': 210, 'User_125': 356, 'User_121': 440, 'User_83': 1122, 'User_2': 2, 'User_107': 848, 'User_128': 438, 'User_122': 190, 'User_27': 362, 'User_100': 1828, 'User_126': 86, 'User_129': 734, 'User_123': 428, 'User_133': 230, 'User_31': 362, 'User_93': 276, 'User_131': 132, 'User_134': 144, 'User_53': 36, 'User_106': 50, 'User_137': 2}\n",
      "\n",
      "['A_Submitted']\n",
      "{'User_1': 20423}\n",
      "\n",
      "['A_Validating', 'O_Returned']\n",
      "{'User_117': 3552, 'User_119': 2767, 'User_116': 4626, 'User_31': 38, 'User_118': 3968, 'User_113': 4138, 'User_112': 3640, 'User_114': 1183, 'User_29': 213, 'User_100': 132, 'User_2': 409, 'User_120': 3182, 'User_127': 440, 'User_10': 96, 'User_34': 97, 'User_41': 171, 'User_14': 96, 'User_92': 4, 'User_95': 83, 'User_22': 11, 'User_75': 133, 'User_44': 38, 'User_101': 59, 'User_30': 125, 'User_73': 10, 'User_125': 1767, 'User_28': 182, 'User_99': 96, 'User_18': 96, 'User_6': 1, 'User_24': 62, 'User_27': 3396, 'User_74': 23, 'User_70': 59, 'User_25': 24, 'User_38': 39, 'User_47': 20, 'User_21': 37, 'User_13': 31, 'User_3': 160, 'User_35': 60, 'User_68': 106, 'User_5': 199, 'User_26': 41, 'User_8': 1, 'User_49': 93, 'User_15': 49, 'User_17': 70, 'User_19': 61, 'User_4': 95, 'User_9': 1, 'User_86': 19, 'User_11': 58, 'User_43': 16, 'User_102': 53, 'User_85': 10, 'User_109': 97, 'User_87': 104, 'User_12': 51, 'User_33': 85, 'User_37': 54, 'User_71': 43, 'User_36': 64, 'User_52': 53, 'User_16': 45, 'User_23': 105, 'User_115': 18, 'User_20': 6, 'User_90': 91, 'User_121': 4916, 'User_32': 26, 'User_7': 26, 'User_48': 42, 'User_46': 47, 'User_42': 47, 'User_39': 52, 'User_61': 72, 'User_50': 6, 'User_123': 5478, 'User_122': 2569, 'User_97': 1, 'User_76': 5, 'User_60': 60, 'User_40': 31, 'User_45': 28, 'User_126': 3824, 'User_133': 2260, 'User_83': 92, 'User_53': 881, 'User_54': 100, 'User_93': 53, 'User_51': 36, 'User_124': 19, 'User_111': 3, 'User_142': 1, 'User_131': 1777, 'User_58': 22, 'User_62': 8, 'User_107': 227, 'User_59': 2, 'User_57': 12, 'User_128': 3, 'User_130': 360, 'User_55': 4, 'User_136': 18, 'User_78': 11, 'User_140': 38, 'User_63': 11, 'User_56': 21, 'User_134': 1260, 'User_129': 239, 'User_132': 1, 'User_67': 51, 'User_103': 2, 'User_65': 6, 'User_66': 21, 'User_64': 1, 'User_139': 26, 'User_106': 9, 'User_84': 9, 'User_80': 2, 'User_137': 336, 'User_79': 4, 'User_69': 8, 'User_72': 1, 'User_88': 1, 'User_105': 3}\n",
      "\n",
      "['O_Cancelled']\n",
      "{'User_19': 67, 'User_95': 143, 'User_1': 9982, 'User_27': 76, 'User_8': 10, 'User_119': 150, 'User_17': 112, 'User_112': 138, 'User_20': 35, 'User_29': 603, 'User_38': 75, 'User_89': 1, 'User_115': 177, 'User_3': 203, 'User_14': 155, 'User_90': 303, 'User_87': 244, 'User_70': 48, 'User_49': 157, 'User_75': 375, 'User_2': 158, 'User_22': 6, 'User_10': 142, 'User_114': 22, 'User_99': 233, 'User_113': 162, 'User_92': 2, 'User_11': 65, 'User_41': 140, 'User_30': 306, 'User_68': 396, 'User_4': 95, 'User_9': 16, 'User_24': 135, 'User_37': 115, 'User_44': 37, 'User_110': 2, 'User_34': 49, 'User_36': 84, 'User_109': 419, 'User_15': 103, 'User_117': 130, 'User_18': 108, 'User_21': 52, 'User_118': 314, 'User_13': 52, 'User_102': 282, 'User_74': 29, 'User_108': 4, 'User_12': 41, 'User_35': 58, 'User_52': 81, 'User_43': 96, 'User_116': 77, 'User_25': 34, 'User_16': 105, 'User_71': 79, 'User_33': 45, 'User_28': 120, 'User_7': 62, 'User_6': 1, 'User_23': 73, 'User_31': 114, 'User_85': 14, 'User_5': 200, 'User_32': 70, 'User_73': 9, 'User_47': 24, 'User_86': 12, 'User_142': 2, 'User_120': 49, 'User_39': 99, 'User_127': 28, 'User_125': 84, 'User_97': 17, 'User_42': 149, 'User_46': 86, 'User_61': 74, 'User_26': 82, 'User_103': 5, 'User_83': 228, 'User_60': 67, 'User_48': 89, 'User_53': 39, 'User_121': 96, 'User_51': 61, 'User_40': 60, 'User_107': 144, 'User_45': 52, 'User_76': 9, 'User_128': 99, 'User_122': 27, 'User_54': 50, 'User_50': 9, 'User_100': 220, 'User_58': 36, 'User_63': 51, 'User_126': 10, 'User_123': 56, 'User_57': 29, 'User_62': 35, 'User_55': 7, 'User_129': 122, 'User_56': 42, 'User_111': 9, 'User_78': 48, 'User_93': 40, 'User_59': 9, 'User_132': 10, 'User_64': 2, 'User_67': 63, 'User_133': 43, 'User_104': 12, 'User_91': 4, 'User_66': 36, 'User_65': 18, 'User_77': 48, 'User_80': 27, 'User_131': 22, 'User_79': 34, 'User_96': 15, 'User_84': 10, 'User_81': 10, 'User_134': 30, 'User_69': 22, 'User_98': 11, 'User_106': 12, 'User_135': 1, 'User_105': 5, 'User_137': 2, 'User_72': 12, 'User_94': 2, 'User_88': 1}\n",
      "\n",
      "['O_Sent (online only)']\n",
      "{'User_17': 27, 'User_19': 43, 'User_89': 2, 'User_2': 64, 'User_5': 151, 'User_85': 10, 'User_4': 73, 'User_7': 17, 'User_43': 17, 'User_18': 31, 'User_21': 35, 'User_28': 101, 'User_50': 13, 'User_37': 17, 'User_41': 74, 'User_25': 13, 'User_27': 14, 'User_14': 49, 'User_20': 1, 'User_24': 19, 'User_75': 4, 'User_11': 31, 'User_38': 9, 'User_49': 46, 'User_108': 1, 'User_10': 31, 'User_112': 1, 'User_31': 23, 'User_34': 15, 'User_44': 40, 'User_70': 21, 'User_29': 32, 'User_95': 12, 'User_74': 9, 'User_35': 51, 'User_3': 78, 'User_13': 13, 'User_16': 27, 'User_109': 8, 'User_47': 14, 'User_99': 9, 'User_36': 48, 'User_26': 30, 'User_101': 3, 'User_73': 1, 'User_22': 9, 'User_12': 31, 'User_71': 40, 'User_119': 1, 'User_23': 48, 'User_100': 3, 'User_92': 1, 'User_15': 21, 'User_33': 27, 'User_9': 6, 'User_87': 6, 'User_32': 22, 'User_52': 17, 'User_39': 34, 'User_30': 8, 'User_86': 6, 'User_60': 34, 'User_46': 23, 'User_48': 40, 'User_90': 11, 'User_53': 1, 'User_83': 4, 'User_42': 17, 'User_102': 3, 'User_76': 2, 'User_45': 9, 'User_68': 1, 'User_8': 1, 'User_51': 18, 'User_58': 18, 'User_63': 22, 'User_40': 24, 'User_136': 1, 'User_57': 4, 'User_62': 13, 'User_54': 13, 'User_93': 8, 'User_59': 1, 'User_107': 1, 'User_84': 6, 'User_61': 21, 'User_56': 9, 'User_67': 30, 'User_66': 15, 'User_65': 2, 'User_103': 3, 'User_77': 13, 'User_111': 1, 'User_104': 1, 'User_79': 7, 'User_106': 1, 'User_80': 11, 'User_133': 1, 'User_72': 2, 'User_78': 5, 'User_94': 1, 'User_69': 12, 'User_88': 3, 'User_105': 5}\n",
      "\n",
      "['W_Assess potential fraud']\n",
      "{'User_101': 27, 'User_144': 549, 'User_29': 79, 'User_138': 529, 'User_36': 134, 'User_68': 138, 'User_99': 51, 'User_109': 36, 'User_1': 317, 'User_73': 2, 'User_87': 60, 'User_115': 12, 'User_30': 60, 'User_2': 21, 'User_95': 36, 'User_102': 39, 'User_75': 39, 'User_120': 8, 'User_33': 10, 'User_26': 40, 'User_90': 47, 'User_7': 8, 'User_37': 4, 'User_5': 2, 'User_85': 22, 'User_13': 4, 'User_143': 316, 'User_18': 3, 'User_100': 188, 'User_83': 161, 'User_27': 5, 'User_46': 17, 'User_24': 7, 'User_124': 9, 'User_93': 17, 'User_45': 20, 'User_54': 55, 'User_42': 43, 'User_55': 73, 'User_71': 2, 'User_31': 6, 'User_128': 6, 'User_10': 2, 'User_40': 2, 'User_14': 2, 'User_106': 20, 'User_80': 28, 'User_141': 3, 'User_136': 5, 'User_64': 3, 'User_112': 2, 'User_146': 2, 'User_39': 3, 'User_137': 3, 'User_134': 2, 'User_61': 3}\n",
      "\n",
      "['W_Call after offers']\n",
      "{'User_52': 1728, 'User_11': 1326, 'User_117': 1467, 'User_38': 1379, 'User_119': 1133, 'User_19': 2592, 'User_116': 1700, 'User_15': 3705, 'User_3': 8691, 'User_1': 15822, 'User_17': 2464, 'User_113': 1552, 'User_118': 1627, 'User_31': 3249, 'User_112': 1458, 'User_20': 711, 'User_43': 1784, 'User_8': 231, 'User_16': 4040, 'User_21': 1579, 'User_108': 156, 'User_2': 3915, 'User_89': 66, 'User_71': 2042, 'User_85': 1748, 'User_28': 3971, 'User_114': 379, 'User_100': 28, 'User_7': 1153, 'User_14': 2461, 'User_41': 2999, 'User_18': 5068, 'User_22': 399, 'User_127': 158, 'User_110': 24, 'User_10': 3424, 'User_9': 342, 'User_24': 4010, 'User_13': 1276, 'User_37': 3189, 'User_6': 99, 'User_4': 2274, 'User_74': 515, 'User_120': 1110, 'User_5': 7799, 'User_95': 47, 'User_47': 613, 'User_29': 105, 'User_92': 210, 'User_75': 91, 'User_44': 1358, 'User_12': 1520, 'User_27': 2555, 'User_30': 51, 'User_125': 626, 'User_49': 4588, 'User_34': 690, 'User_36': 2004, 'User_33': 677, 'User_35': 2127, 'User_25': 611, 'User_26': 2021, 'User_50': 89, 'User_68': 36, 'User_144': 34, 'User_70': 1093, 'User_99': 33, 'User_102': 21, 'User_109': 74, 'User_73': 302, 'User_87': 71, 'User_86': 357, 'User_142': 5, 'User_23': 1908, 'User_138': 69, 'User_141': 173, 'User_76': 192, 'User_121': 1945, 'User_32': 2370, 'User_97': 374, 'User_39': 2252, 'User_42': 2924, 'User_61': 2868, 'User_82': 25, 'User_46': 3571, 'User_122': 955, 'User_60': 2901, 'User_48': 2545, 'User_53': 1690, 'User_123': 2112, 'User_51': 2846, 'User_40': 3603, 'User_90': 36, 'User_45': 2239, 'User_126': 1540, 'User_101': 6, 'User_124': 3, 'User_103': 27, 'User_83': 37, 'User_63': 1527, 'User_58': 1597, 'User_107': 107, 'User_143': 28, 'User_54': 982, 'User_57': 1315, 'User_62': 406, 'User_78': 1061, 'User_93': 34, 'User_55': 473, 'User_64': 47, 'User_56': 1368, 'User_128': 1, 'User_91': 444, 'User_111': 13, 'User_133': 401, 'User_131': 650, 'User_130': 168, 'User_59': 303, 'User_136': 2, 'User_132': 2019, 'User_66': 704, 'User_65': 1193, 'User_129': 111, 'User_104': 748, 'User_77': 594, 'User_84': 513, 'User_67': 1095, 'User_79': 569, 'User_80': 723, 'User_96': 606, 'User_106': 17, 'User_134': 495, 'User_69': 702, 'User_137': 133, 'User_81': 383, 'User_98': 298, 'User_139': 2, 'User_88': 205, 'User_72': 341, 'User_94': 306, 'User_135': 53, 'User_105': 288, 'User_140': 1, 'User_146': 3}\n",
      "\n",
      "['W_Call incomplete files']\n",
      "{'User_115': 560, 'User_2': 7003, 'User_117': 864, 'User_101': 3306, 'User_34': 1948, 'User_31': 1469, 'User_114': 478, 'User_118': 1602, 'User_95': 2168, 'User_116': 1633, 'User_100': 7659, 'User_28': 4134, 'User_27': 2078, 'User_119': 1066, 'User_75': 5294, 'User_21': 558, 'User_87': 4136, 'User_68': 4526, 'User_29': 6319, 'User_41': 4974, 'User_113': 1781, 'User_120': 1746, 'User_102': 1861, 'User_90': 4131, 'User_99': 4398, 'User_33': 3212, 'User_112': 1332, 'User_10': 1053, 'User_109': 3981, 'User_70': 524, 'User_47': 259, 'User_5': 3500, 'User_44': 428, 'User_38': 589, 'User_35': 670, 'User_26': 1235, 'User_14': 2461, 'User_74': 228, 'User_42': 1364, 'User_49': 2353, 'User_30': 5041, 'User_4': 1294, 'User_92': 90, 'User_22': 102, 'User_11': 994, 'User_3': 4088, 'User_20': 42, 'User_17': 1144, 'User_9': 27, 'User_73': 102, 'User_13': 549, 'User_23': 1381, 'User_36': 844, 'User_18': 1176, 'User_6': 3, 'User_24': 975, 'User_1': 686, 'User_15': 1747, 'User_7': 292, 'User_25': 93, 'User_43': 376, 'User_19': 524, 'User_85': 288, 'User_125': 917, 'User_16': 652, 'User_86': 321, 'User_8': 2, 'User_37': 858, 'User_71': 612, 'User_12': 231, 'User_50': 31, 'User_141': 63, 'User_39': 2254, 'User_46': 979, 'User_127': 229, 'User_52': 1285, 'User_142': 4, 'User_32': 194, 'User_121': 2128, 'User_148': 4, 'User_128': 250, 'User_60': 730, 'User_48': 2182, 'User_61': 1190, 'User_83': 3309, 'User_144': 3, 'User_123': 2664, 'User_40': 1401, 'User_122': 1349, 'User_97': 1, 'User_103': 4, 'User_76': 5, 'User_45': 364, 'User_124': 753, 'User_107': 688, 'User_54': 2835, 'User_126': 1930, 'User_133': 2571, 'User_63': 1162, 'User_64': 108, 'User_93': 1430, 'User_53': 645, 'User_138': 4, 'User_51': 757, 'User_111': 3, 'User_146': 4, 'User_67': 2979, 'User_131': 1062, 'User_57': 361, 'User_129': 467, 'User_58': 712, 'User_62': 125, 'User_136': 283, 'User_66': 1338, 'User_59': 2, 'User_78': 177, 'User_139': 28, 'User_55': 42, 'User_130': 115, 'User_140': 45, 'User_56': 359, 'User_104': 1, 'User_106': 440, 'User_69': 337, 'User_134': 797, 'User_132': 3, 'User_80': 28, 'User_65': 8, 'User_84': 274, 'User_96': 14, 'User_77': 128, 'User_79': 47, 'User_88': 202, 'User_137': 171, 'User_94': 11, 'User_72': 45, 'User_105': 54, 'User_81': 29}\n",
      "\n",
      "['W_Personal Loan collection']\n",
      "{'User_50': 6, 'User_24': 2, 'User_99': 2, 'User_5': 4, 'User_138': 4, 'User_119': 2, 'User_69': 2}\n",
      "\n",
      "['W_Shortened completion ']\n",
      "{'User_49': 15, 'User_18': 33, 'User_106': 3, 'User_75': 3, 'User_11': 39, 'User_43': 76, 'User_77': 2, 'User_79': 2, 'User_5': 6, 'User_28': 15, 'User_42': 19, 'User_2': 15, 'User_124': 2, 'User_30': 2, 'User_53': 6}\n",
      "\n",
      "['W_Validate application']\n",
      "{'User_117': 6339, 'User_115': 1216, 'User_119': 4895, 'User_30': 11209, 'User_68': 8118, 'User_116': 8905, 'User_101': 1408, 'User_31': 717, 'User_90': 3702, 'User_102': 3153, 'User_114': 2384, 'User_118': 6835, 'User_95': 4613, 'User_113': 7604, 'User_100': 7675, 'User_99': 6287, 'User_112': 6505, 'User_75': 5136, 'User_87': 13934, 'User_29': 7415, 'User_2': 1033, 'User_120': 6046, 'User_127': 884, 'User_10': 303, 'User_1': 1228, 'User_109': 3243, 'User_34': 394, 'User_41': 516, 'User_14': 296, 'User_92': 12, 'User_22': 34, 'User_44': 114, 'User_73': 43, 'User_125': 3476, 'User_28': 549, 'User_18': 300, 'User_6': 3, 'User_24': 194, 'User_27': 6374, 'User_74': 75, 'User_70': 176, 'User_144': 151, 'User_4': 384, 'User_25': 73, 'User_9': 5, 'User_38': 116, 'User_47': 62, 'User_21': 113, 'User_13': 95, 'User_5': 859, 'User_3': 485, 'User_49': 387, 'User_35': 180, 'User_26': 128, 'User_36': 201, 'User_7': 102, 'User_8': 3, 'User_15': 153, 'User_17': 228, 'User_19': 184, 'User_86': 58, 'User_11': 181, 'User_43': 53, 'User_85': 36, 'User_124': 431, 'User_12': 157, 'User_138': 286, 'User_33': 262, 'User_37': 167, 'User_71': 129, 'User_52': 161, 'User_16': 140, 'User_23': 320, 'User_146': 8, 'User_20': 32, 'User_83': 5525, 'User_121': 8876, 'User_141': 2, 'User_32': 81, 'User_48': 131, 'User_46': 143, 'User_42': 149, 'User_39': 160, 'User_61': 243, 'User_50': 18, 'User_123': 9707, 'User_122': 4773, 'User_97': 3, 'User_76': 15, 'User_60': 181, 'User_107': 785, 'User_40': 96, 'User_143': 157, 'User_93': 5574, 'User_45': 97, 'User_126': 6735, 'User_133': 5375, 'User_128': 76, 'User_53': 1466, 'User_54': 311, 'User_51': 115, 'User_111': 11, 'User_103': 8, 'User_142': 3, 'User_131': 3340, 'User_58': 66, 'User_63': 35, 'User_136': 128, 'User_62': 24, 'User_64': 12, 'User_139': 44, 'User_59': 6, 'User_57': 36, 'User_130': 564, 'User_55': 16, 'User_78': 33, 'User_140': 119, 'User_56': 68, 'User_106': 1013, 'User_134': 2221, 'User_129': 364, 'User_132': 3, 'User_67': 155, 'User_65': 18, 'User_66': 64, 'User_84': 28, 'User_80': 6, 'User_137': 594, 'User_79': 11, 'User_69': 24, 'User_72': 3, 'User_88': 3, 'User_105': 9}\n",
      "\n"
     ]
    }
   ],
   "source": [
    "roles = roles_discovery.apply(log)\n",
    "\n",
    "for x in roles:\n",
    "    print(x[0])\n",
    "    print(x[1])\n",
    "    print(\"\")"
   ]
  },
  {
   "cell_type": "markdown",
   "metadata": {},
   "source": [
    "Handover of Work"
   ]
  },
  {
   "cell_type": "code",
   "execution_count": 77,
   "metadata": {
    "pycharm": {
     "name": "#%%\n"
    }
   },
   "outputs": [],
   "source": [
    "hw_values = sna.apply(log, variant=sna.Variants.HANDOVER_LOG)\n",
    "\n",
    "if use_networkx:\n",
    "    gviz_hw_py = sna_visualizer.apply(hw_values, variant=sna_visualizer.Variants.NETWORKX)\n",
    "    sna_visualizer.view(gviz_hw_py, variant=sna_visualizer.Variants.NETWORKX)\n",
    "else:\n",
    "    gviz_hw_py = sna_visualizer.apply(sa_metric , variant=sna_visualizer.Variants.PYVIS)\n",
    "    shutil.move(gviz_hw_py, \"result/handover_of_work.html\")"
   ]
  },
  {
   "cell_type": "markdown",
   "metadata": {},
   "source": [
    "CLuster Similar Activities into groups\n",
    "Clustering the results of the similar activities metric, individuals that work on the same tasks would be inserted in the same group.\n",
    "\n",
    "**Ausgabeformat**\n",
    "1. Cluster\n",
    "2. Benutzerliste\n",
    "3. `Blank Row`"
   ]
  },
  {
   "cell_type": "code",
   "execution_count": 78,
   "metadata": {
    "pycharm": {
     "name": "#%%\n"
    }
   },
   "outputs": [
    {
     "name": "stdout",
     "output_type": "stream",
     "text": [
      "3\n",
      "['User_1', 'User_138', 'User_143', 'User_144', 'User_147']\n",
      "\n",
      "6\n",
      "['User_10', 'User_13', 'User_141', 'User_15', 'User_16', 'User_17', 'User_18', 'User_19', 'User_21', 'User_22', 'User_24', 'User_35', 'User_36', 'User_37', 'User_38', 'User_4', 'User_40', 'User_42', 'User_43', 'User_44', 'User_45', 'User_46', 'User_47', 'User_49', 'User_51', 'User_52', 'User_60', 'User_61', 'User_62', 'User_70', 'User_74', 'User_84', 'User_85', 'User_88', 'User_92']\n",
      "\n",
      "0\n",
      "['User_100', 'User_101', 'User_102', 'User_107', 'User_109', 'User_115', 'User_124', 'User_128', 'User_129', 'User_136', 'User_148', 'User_29', 'User_75', 'User_90', 'User_99']\n",
      "\n",
      "4\n",
      "['User_103', 'User_104', 'User_105', 'User_108', 'User_110', 'User_12', 'User_132', 'User_135', 'User_20', 'User_25', 'User_32', 'User_50', 'User_55', 'User_56', 'User_57', 'User_59', 'User_6', 'User_65', 'User_69', 'User_7', 'User_71', 'User_72', 'User_73', 'User_76', 'User_77', 'User_78', 'User_79', 'User_8', 'User_80', 'User_81', 'User_82', 'User_89', 'User_9', 'User_91', 'User_94', 'User_96', 'User_97', 'User_98']\n",
      "\n",
      "1\n",
      "['User_106', 'User_112', 'User_113', 'User_114', 'User_116', 'User_117', 'User_118', 'User_119', 'User_120', 'User_121', 'User_122', 'User_123', 'User_125', 'User_126', 'User_127', 'User_130', 'User_131', 'User_133', 'User_134', 'User_137', 'User_139', 'User_140', 'User_27', 'User_30', 'User_68', 'User_83', 'User_87', 'User_93', 'User_95']\n",
      "\n",
      "7\n",
      "['User_11', 'User_14', 'User_23', 'User_26', 'User_28', 'User_3', 'User_31', 'User_39', 'User_48', 'User_5', 'User_53', 'User_58', 'User_63', 'User_66', 'User_86']\n",
      "\n",
      "2\n",
      "['User_111', 'User_142', 'User_145', 'User_149', 'User_64']\n",
      "\n",
      "5\n",
      "['User_146', 'User_2', 'User_33', 'User_34', 'User_41', 'User_54', 'User_67']\n",
      "\n"
     ]
    }
   ],
   "source": [
    "clustering_sa = util.cluster_affinity_propagation(sa_metric)\n",
    "\n",
    "for group in clustering_sa:\n",
    "    print(group)\n",
    "    print(clustering_sa[group])\n",
    "    print(\"\")\n"
   ]
  },
  {
   "cell_type": "markdown",
   "metadata": {},
   "source": [
    "Clustering the results of the working together metric, individuals that work often together would be inserted in the same group.\n",
    "\n",
    "**Ausgabeformat**\n",
    "1. Cluster\n",
    "2. Benutzerliste\n",
    "3. `Blank Row`"
   ]
  },
  {
   "cell_type": "code",
   "execution_count": 79,
   "metadata": {
    "pycharm": {
     "name": "#%%\n"
    }
   },
   "outputs": [
    {
     "name": "stdout",
     "output_type": "stream",
     "text": [
      "0\n",
      "['User_1']\n",
      "\n",
      "1\n",
      "['User_10']\n",
      "\n",
      "2\n",
      "['User_100']\n",
      "\n",
      "15\n",
      "['User_101', 'User_102', 'User_103', 'User_104', 'User_105', 'User_106', 'User_107', 'User_108', 'User_11', 'User_110', 'User_111', 'User_114', 'User_115', 'User_119', 'User_12', 'User_122', 'User_124', 'User_125', 'User_127', 'User_128', 'User_129', 'User_13', 'User_130', 'User_131', 'User_132', 'User_134', 'User_135', 'User_136', 'User_137', 'User_138', 'User_139', 'User_140', 'User_141', 'User_142', 'User_143', 'User_144', 'User_145', 'User_146', 'User_147', 'User_148', 'User_149', 'User_17', 'User_19', 'User_20', 'User_21', 'User_22', 'User_23', 'User_24', 'User_25', 'User_26', 'User_31', 'User_32', 'User_33', 'User_34', 'User_35', 'User_36', 'User_38', 'User_39', 'User_43', 'User_44', 'User_45', 'User_47', 'User_48', 'User_50', 'User_51', 'User_52', 'User_53', 'User_54', 'User_55', 'User_56', 'User_57', 'User_58', 'User_59', 'User_6', 'User_60', 'User_62', 'User_63', 'User_64', 'User_65', 'User_66', 'User_67', 'User_69', 'User_7', 'User_70', 'User_71', 'User_72', 'User_73', 'User_74', 'User_76', 'User_77', 'User_78', 'User_79', 'User_8', 'User_80', 'User_81', 'User_82', 'User_84', 'User_85', 'User_86', 'User_88', 'User_89', 'User_9', 'User_91', 'User_92', 'User_93', 'User_94', 'User_95', 'User_96', 'User_97', 'User_98']\n",
      "\n",
      "3\n",
      "['User_109']\n",
      "\n",
      "4\n",
      "['User_112']\n",
      "\n",
      "5\n",
      "['User_113']\n",
      "\n",
      "6\n",
      "['User_116']\n",
      "\n",
      "7\n",
      "['User_117']\n",
      "\n",
      "8\n",
      "['User_118']\n",
      "\n",
      "9\n",
      "['User_120']\n",
      "\n",
      "10\n",
      "['User_121']\n",
      "\n",
      "11\n",
      "['User_123']\n",
      "\n",
      "12\n",
      "['User_126']\n",
      "\n",
      "13\n",
      "['User_133']\n",
      "\n",
      "14\n",
      "['User_14']\n",
      "\n",
      "16\n",
      "['User_15']\n",
      "\n",
      "17\n",
      "['User_16']\n",
      "\n",
      "18\n",
      "['User_18']\n",
      "\n",
      "19\n",
      "['User_2']\n",
      "\n",
      "20\n",
      "['User_27']\n",
      "\n",
      "21\n",
      "['User_28']\n",
      "\n",
      "22\n",
      "['User_29']\n",
      "\n",
      "23\n",
      "['User_3']\n",
      "\n",
      "24\n",
      "['User_30']\n",
      "\n",
      "25\n",
      "['User_37']\n",
      "\n",
      "26\n",
      "['User_4']\n",
      "\n",
      "27\n",
      "['User_40']\n",
      "\n",
      "28\n",
      "['User_41']\n",
      "\n",
      "29\n",
      "['User_42']\n",
      "\n",
      "30\n",
      "['User_46']\n",
      "\n",
      "31\n",
      "['User_49']\n",
      "\n",
      "32\n",
      "['User_5']\n",
      "\n",
      "33\n",
      "['User_61']\n",
      "\n",
      "34\n",
      "['User_68']\n",
      "\n",
      "35\n",
      "['User_75']\n",
      "\n",
      "36\n",
      "['User_83']\n",
      "\n",
      "37\n",
      "['User_87']\n",
      "\n",
      "38\n",
      "['User_90']\n",
      "\n",
      "39\n",
      "['User_99']\n",
      "\n"
     ]
    }
   ],
   "source": [
    "clustering_hw = util.cluster_affinity_propagation(hw_values)\n",
    "for group in clustering_hw:\n",
    "    print(group)\n",
    "    print(clustering_hw[group])\n",
    "    print(\"\")"
   ]
  },
  {
   "cell_type": "code",
   "execution_count": 80,
   "metadata": {
    "pycharm": {
     "name": "#%%\n"
    }
   },
   "outputs": [
    {
     "name": "stdout",
     "output_type": "stream",
     "text": [
      "\n",
      "group_relative_focus\n",
      "{}\n",
      "\n",
      "group_relative_stake\n",
      "{}\n",
      "\n",
      "group_coverage\n",
      "{}\n",
      "\n",
      "group_member_contribution\n",
      "{}\n"
     ]
    }
   ],
   "source": [
    "# this applies the organizational mining from an attribute that is in each event, describing the group that is performing the task.\n",
    "ld = local_diagnostics.apply_from_group_attribute(log)\n",
    "# GROUP RELATIVE FOCUS (on a given type of work) specifies how much a resource group performed this type of work\n",
    "# compared to the overall workload of the group. It can be used to measure how the workload of a resource group\n",
    "# is distributed over different types of work, i.e., work diversification of the group.\n",
    "print(\"\\ngroup_relative_focus\")\n",
    "print(ld[\"group_relative_focus\"])\n",
    "# GROUP RELATIVE STAKE (in a given type of work) specifies how much this type of work was performed by a certain\n",
    "# resource group among all groups. It can be used to measure how the workload devoted to a certain type of work is\n",
    "# distributed over resource groups in an organizational model, i.e., work participation by different groups.\n",
    "print(\"\\ngroup_relative_stake\")\n",
    "print(ld[\"group_relative_stake\"])\n",
    "# GROUP COVERAGE with respect to a given type of work specifies the proportion of members of a resource group that\n",
    "# performed this type of work.\n",
    "print(\"\\ngroup_coverage\")\n",
    "print(ld[\"group_coverage\"])\n",
    "# GROUP MEMBER CONTRIBUTION of a member of a resource group with respect to the given type of work specifies how\n",
    "# much of this type of work by the group was performed by the member. It can be used to measure how the workload\n",
    "# of the entire group devoted to a certain type of work is distributed over the group members.\n",
    "print(\"\\ngroup_member_contribution\")\n",
    "print(ld[\"group_member_contribution\"])"
   ]
  }
 ],
 "metadata": {
  "kernelspec": {
   "display_name": "Python 3 (ipykernel)",
   "language": "python",
   "name": "python3"
  },
  "language_info": {
   "codemirror_mode": {
    "name": "ipython",
    "version": 3
   },
   "file_extension": ".py",
   "mimetype": "text/x-python",
   "name": "python",
   "nbconvert_exporter": "python",
   "pygments_lexer": "ipython3",
   "version": "3.10.0"
  }
 },
 "nbformat": 4,
 "nbformat_minor": 1
}