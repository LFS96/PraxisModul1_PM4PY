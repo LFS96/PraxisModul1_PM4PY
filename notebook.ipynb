{
 "cells": [
  {
   "cell_type": "markdown",
   "source": [
    "[Markdown Guide](https://docs.gitlab.com/ee/user/markdown.html)"
   ],
   "metadata": {
    "collapsed": false,
    "pycharm": {
     "name": "#%% md\n"
    }
   }
  },
  {
   "cell_type": "markdown",
   "source": [
    "# Praxismodul I\n",
    "## Thema 6: Process Organisation\n",
    "## Hochschule Mainz\n",
    "## Wirtschaftsinformatik dual B.Sc., Fachsemester 4\n",
    "\n",
    "Durchgeführt von\n",
    "\n",
    "| Student | Matrikel-Nummer |\n",
    "|:-- |:--|\n",
    "|Moritz Wetzel | 943566|\n",
    "|Till Waller | 943565|\n",
    "Fabian Harmsen| 943611|\n",
    "\n"
   ],
   "metadata": {
    "collapsed": false,
    "pycharm": {
     "name": "#%% md\n"
    }
   }
  },
  {
   "cell_type": "markdown",
   "source": [
    "## Gliederung\n",
    "\n",
    "1. Projektziel\n",
    "2. Erklärungen zu den grafischen Ergebnissen\n",
    "3. Configuration\n",
    "4. Import\n",
    "5. Similar Activities\n",
    "6. Discover Roles\n",
    "7. Handover Of Work\n",
    "8. Clustering Similar Activities\n",
    "9. Clustering Working together\n",
    "10. Fazit"
   ],
   "metadata": {
    "collapsed": false,
    "pycharm": {
     "name": "#%% md\n"
    }
   }
  },
  {
   "cell_type": "markdown",
   "source": [
    "## 1. Projektziel\n",
    "\n",
    "Im Rahmen dieser Projektarbeit wird die Prozessorganisation eines zur Verfügung gestellten Datensatzes untersucht. Die uns zur Verfügung gestellte Logdatei stammt aus der BPI-Challenge 2017 und bestehen aus 2 Geschäftsprozessen. Unser Projektziel wird daraus bestehen, soziale Netzwerke innerhalb eines gewünschten Datensatzes zu entdecken. Hierfür werden die Daten mit Methoden der sozialen Netzwerkanalyse untersucht, um die sozialen Verbindungen im importierten Datensatz zu untersuchen und auszuwerten. Die Ergebnisse werden mithilfe eines Jupyter-Notebooks berechnet und visuell dargestellt. Zum Ende des Projekts werden zwei weitere Datensätze mit den implementierten Analysen untersucht, um die Funktionalität der Methodik zu validieren."
   ],
   "metadata": {
    "collapsed": false,
    "pycharm": {
     "name": "#%% md\n"
    }
   }
  },
  {
   "cell_type": "markdown",
   "source": [
    "## 2. Erklärung zu den grafischen Ergebnissen\n",
    "\n",
    "Dieser Abschnitt erklärt die Grafischen Ergebnisse unabhängig von angewandten Methoden bzw. Analysen. Die Ausgaben setzen sich aus Nodes (Knoten) und Edges (Verbindungen) zusammen. Ein Node stellt im Rahmen unserer Arbeit einen Nutzer dar. Nach dem Clustering stellt ein Node eine Benutzergruppe dar. Die Benutzer beziehungsweise Benutzergruppen sind unterschiedlich stark über Edges miteinander verbunden. Die Stärke dieser Verbindung wird über Analysen festgestellt.\n",
    "\n",
    "Aus Nodes und Edges werden Physiksimulationen erstellt, diese dienen der visuellen Darstellung der Methodenergebnisse. Die Edges wirken wie Gummibänder, die die Nodes zusammenhalten. Die Nodes hingegen versuchen möglichst viel Abstand zu anderen Nodes zu haben. Dies führt dazu, dass Nodes, die aufgrund der Analysen mit starken Edges verbunden sind, sich annähern und weniger stark verbundene Nodes sich voneinander entfernen. Sobald sich die Physiksimulation beruhigt hat, kann man Gruppen von Nodes erkennen sowie die Verbindungen zu anderen Gruppen.\n",
    "\n",
    "Wir bieten zwei Methoden zur erstellung von Grafischen Ausgaben, \"NetworkX\" wird direkt im Notebook ausgegeben, \"Pyvis\" erzeugt genauere webbasierte Ausgaben.\n",
    "Diese Analyseergebnisse können als HTML-Datei im Browser geöffnet werden und sind unter \"result/*\" zu finden.\n",
    "\n",
    "*Wir erzeugen beim beziehungsweise nach dem Clustering keine grafische Ausgabe, da dies bei den getesteten Datensätzen keine neuen Erkenntnisse gebracht hat.*"
   ],
   "metadata": {
    "collapsed": false,
    "pycharm": {
     "name": "#%% md\n"
    }
   }
  },
  {
   "cell_type": "markdown",
   "source": [
    "## 3. Configuration\n",
    "\n",
    "Die folgende Tabelle erklärt die Variablen, die im nächsten Code-Block definiert werden können. Die Logdatei muss, um richtig analysiert werden zu können, im XES-Dateiformat vorliegen. Der Speicherort muss in der Variable `log_path` angegeben werden.\n",
    "\n",
    "| variable | type | description| default|\n",
    "|:--|:--|:--|:--|\n",
    "|log_path | (path)| path to the XES File|`data/test.xes`|\n",
    "|use_networkx | (bool)| output via NetworkX or Pyvis| `False`|\n",
    "|filter_timeframe | (bool)| filter the timeframe of the traces| `False` |\n",
    "|filter_timeframe_intersecting | (bool)| use intersecting or contained| `False` |\n",
    "|filter_timeframe_start | (dateTime)| start of the Timeframe| `1970-01-01 00:00:00` |\n",
    "|filter_timeframe_end | (dateTime)| end of the Timeframe| `2038-12-31 00:00:00` |\n",
    "|filter_performance| (bool)| filter on Traceperformance| `False` |\n",
    "|filter_performance_min| (int)| minimum seconds of trace actions|`0` |\n",
    "|filter_performance_max |(int)| maximum seconds of trace actions|`360000` |\n",
    "\n",
    "Die Option `Pyvis` legt die Ergebnisse im Ordner `./result` ab, welcher schreibend Zugriff benötigt."
   ],
   "metadata": {
    "collapsed": false,
    "pycharm": {
     "name": "#%% md\n"
    }
   }
  },
  {
   "cell_type": "code",
   "execution_count": null,
   "outputs": [],
   "source": [
    "log_path = 'data/BPI_Challenge_2017_Offer_log.xes'\n",
    "\n",
    "use_networkx = False\n",
    "\n",
    "filter_timeframe = False\n",
    "filter_timeframe_intersecting  = False\n",
    "filter_timeframe_start = \"2011-03-09 00:00:00\"\n",
    "filter_timeframe_end = \"2011-03-09 00:00:00\"\n",
    "\n",
    "filter_performance = False\n",
    "filter_performance_min = 0\n",
    "filter_performance_max = 864000"
   ],
   "metadata": {
    "collapsed": false,
    "pycharm": {
     "name": "#%%\n"
    }
   }
  },
  {
   "cell_type": "markdown",
   "source": [
    "## 4. Import\n",
    "Im folgenden Codeblock werden alle Bibliotheken geladen die im laufenden Skript benötigt werden. Wenn die Bibliotheken nicht gefunden werden können, können sie über den Packagemanager pip seperat nachinstalliert werden.\n",
    "\n",
    "**Unvollständige Liste der Pythonpackete (pip)**\n",
    " - pm4py\n",
    " - shutil\n",
    " - numpy\n",
    " - sklearn\n",
    " - scipy\n"
   ],
   "metadata": {
    "collapsed": false,
    "pycharm": {
     "name": "#%% md\n"
    }
   }
  },
  {
   "cell_type": "code",
   "execution_count": null,
   "outputs": [],
   "source": [
    "import shutil\n",
    "from pm4py.objects.log.importer.xes import importer as xes_importer\n",
    "from pm4py.algo.organizational_mining.sna import algorithm as sna\n",
    "from pm4py.visualization.sna import visualizer as sna_visualizer\n",
    "from pm4py.algo.organizational_mining.roles import algorithm as roles_discovery\n",
    "from pm4py.algo.organizational_mining.sna import util\n",
    "from pm4py.algo.filtering.log.timestamp import timestamp_filter\n",
    "from pm4py.algo.filtering.log.cases import case_filter\n",
    "from pm4py.algo.organizational_mining.local_diagnostics import algorithm as local_diagnostics\n",
    "from pathlib import Path"
   ],
   "metadata": {
    "collapsed": false,
    "pycharm": {
     "name": "#%%\n"
    }
   }
  },
  {
   "cell_type": "markdown",
   "source": [
    "Der Ordner für die webbasierten Exportergebnisse wird in diesem Codeblock erstellt. Wird NetworkX als Ausgabe genutzt, wird dieser Abschnitt übersprungen.\n"
   ],
   "metadata": {
    "collapsed": false,
    "pycharm": {
     "name": "#%% md\n"
    }
   }
  },
  {
   "cell_type": "code",
   "execution_count": null,
   "outputs": [],
   "source": [
    "if not use_networkx:\n",
    "    Path(\"./result\").mkdir(parents=True, exist_ok=True)"
   ],
   "metadata": {
    "collapsed": false,
    "pycharm": {
     "name": "#%%\n"
    }
   }
  },
  {
   "cell_type": "markdown",
   "source": [
    "Dieser Code-Block lädt den Datensatz und wendet die eingestellten Filter an.\n",
    "Die Einstellungen dazu wurden in Block 3 (Configuration) festgelegt."
   ],
   "metadata": {
    "collapsed": false,
    "pycharm": {
     "name": "#%% md\n"
    }
   }
  },
  {
   "cell_type": "code",
   "execution_count": null,
   "outputs": [],
   "source": [
    "log = xes_importer.apply(log_path)\n",
    "\n",
    "if filter_timeframe:\n",
    "    if not filter_timeframe_intersecting:\n",
    "        log = timestamp_filter.filter_traces_contained(   log, filter_timeframe_start, filter_timeframe_end)\n",
    "    else:\n",
    "        log = timestamp_filter.filter_traces_intersecting(log, filter_timeframe_start, filter_timeframe_end)\n",
    "\n",
    "if filter_performance:\n",
    "    log = case_filter.filter_case_performance(log, filter_performance_min, filter_performance_max)"
   ],
   "metadata": {
    "collapsed": false,
    "pycharm": {
     "name": "#%%\n"
    }
   }
  },
  {
   "cell_type": "markdown",
   "source": [
    "## 5. Similar Activities\n",
    "\n",
    "In diesem Abschnitt wird die Methode \"Similar Activities\" auf den zuvor importierten Datensatz angewendet, um zu berechnen, wie sehr sich die Arbeitsabläufe zwischen den Nutzern (Nodes) ähneln (Quelle: https://pm4py.fit.fraunhofer.de/documentation)."
   ],
   "metadata": {
    "collapsed": false,
    "pycharm": {
     "name": "#%% md\n"
    }
   }
  },
  {
   "cell_type": "code",
   "execution_count": null,
   "outputs": [],
   "source": [
    "sa_metric  = sna.apply(log, variant=sna.Variants.JOINTACTIVITIES_LOG)\n",
    "\n",
    "if use_networkx:\n",
    "    gviz_ja_py = sna_visualizer.apply(sa_metric , variant=sna_visualizer.Variants.NETWORKX)\n",
    "    sna_visualizer.view(gviz_ja_py, variant=sna_visualizer.Variants.NETWORKX)\n",
    "else:\n",
    "    gviz_ja_py = sna_visualizer.apply(sa_metric , variant=sna_visualizer.Variants.PYVIS)\n",
    "    shutil.move(gviz_ja_py, \"result/similar_activities.html\")"
   ],
   "metadata": {
    "collapsed": false,
    "pycharm": {
     "name": "#%%\n"
    }
   }
  },
  {
   "cell_type": "markdown",
   "source": [
    "## 6. Discover Roles\n",
    "\n",
    "In diesem Abschnitt wird die Methode “Discover Roles” auf den zuvor importierten Datensatz angewendet, um die Rollen eines Nutzers (Node) anhand seiner durchgeführten Aktivitäten zu erkennen. Eine Rolle ist dabei ein Satz von Arbeitsaktivitäten im Log, die in ähnlicher Weise von einem Nutzer (Node) oder mehreren Nutzern (Nodes) ausgeführt wird. Zu Beginn der Analyse gehört jede Arbeitsaktivität zu unterschiedlichen Positionen und ist mit einer hohen Anzahl an Urhebern verbunden. Anschließend werden die Rollen entsprechend ihrer Ähnlichkeit der Arbeitsabläufe gruppiert, bis keine weitere Gruppierung mehr möglich ist. (Quelle: https://pm4py.fit.fraunhofer.de/documentation)\n",
    "\n",
    "Folgende Quelle kann helfen, die aufgeführten Rollen zu verstehen und zu erkennen:\n",
    "\n",
    "Burattin, Andrea, Alessandro Sperduti, and Marco Veluscek. “Business models enhancement through discovery of roles.” 2013 IEEE Symposium on Computational Intelligence and Data Mining (CIDM). IEEE, 2013\n",
    "\n",
    "Die Analyseergebnisse werden folgendermaßen ausgegeben:\n",
    "\n",
    "1. Rollenname auf Basis der Aktivitäten\n",
    "2. Benutzer mit der Angabe wie aktiv der Nutzer in der Rolle war\n",
    "3. `Leerzeile`"
   ],
   "metadata": {
    "collapsed": false,
    "pycharm": {
     "name": "#%% md\n"
    }
   }
  },
  {
   "cell_type": "code",
   "execution_count": null,
   "outputs": [],
   "source": [
    "roles = roles_discovery.apply(log)\n",
    "\n",
    "for x in roles:\n",
    "    print(x[0])\n",
    "    print(x[1])\n",
    "    print(\"\")"
   ],
   "metadata": {
    "collapsed": false,
    "pycharm": {
     "name": "#%%\n"
    }
   }
  },
  {
   "cell_type": "markdown",
   "source": [
    "## 7. Handover Of Work\n",
    "\n",
    "In diesem Abschnitt wird die Methode “Handover Of Work” auf den zuvor importierten Datensatz angewendet, um zu messen, wie oft ein Nutzer (Node) bei der Ausführung eines Geschäftsprozesses mit einer anderen Person zusammenarbeitet. (Quelle: https://pm4py.fit.fraunhofer.de/documentation)\n",
    "Ein HandOver wird hier als folgendes definiert, ein Nutzer übergibt den Geschäftsvorfall am Ende seiner Aktivität an einen anderen Nutzer. Die beiden Nutzer sind dabei die Nodes, die Edges sind eine Metrik für die Anzahl an übergebenden Geschäftsvorfällen. Die Edges zeigen bei “Handover Of Work” Analysen somit auch die Richtung des Arbeitsflusses.\n",
    "\n"
   ],
   "metadata": {
    "collapsed": false,
    "pycharm": {
     "name": "#%% md\n"
    }
   }
  },
  {
   "cell_type": "code",
   "execution_count": null,
   "outputs": [],
   "source": [
    "hw_values = sna.apply(log, variant=sna.Variants.HANDOVER_LOG)\n",
    "\n",
    "if use_networkx:\n",
    "    gviz_hw_py = sna_visualizer.apply(hw_values, variant=sna_visualizer.Variants.NETWORKX)\n",
    "    sna_visualizer.view(gviz_hw_py, variant=sna_visualizer.Variants.NETWORKX)\n",
    "else:\n",
    "    gviz_hw_py = sna_visualizer.apply(hw_values , variant=sna_visualizer.Variants.PYVIS)\n",
    "    shutil.move(gviz_hw_py, \"result/handover_of_work.html\")"
   ],
   "metadata": {
    "collapsed": false,
    "pycharm": {
     "name": "#%%\n"
    }
   }
  },
  {
   "cell_type": "markdown",
   "source": [
    "## 8. Clustering Similar Activities\n",
    "\n",
    "In diesem Abschnitt werden die unter 6 analysierten Nutzer in Nutzergruppen zusammengefasst, welche gleiche Aufgaben verrichtet haben. Dies soll die Übersichtlichkeit erhöhen und erste Schlussfolgerungen ermöglichen.\n",
    "\n",
    "Die Analyseergebnisse werden folgendermaßen ausgegeben:\n",
    "\n",
    "1. Cluster\n",
    "2. Benutzerliste\n",
    "3. `Leerzeile`"
   ],
   "metadata": {
    "collapsed": false,
    "pycharm": {
     "name": "#%% md\n"
    }
   }
  },
  {
   "cell_type": "code",
   "execution_count": null,
   "outputs": [],
   "source": [
    "clustering_sa = util.cluster_affinity_propagation(sa_metric)\n",
    "\n",
    "for group in clustering_sa:\n",
    "    print(\"Gruppe: \" + group)\n",
    "    print(clustering_sa[group])\n",
    "    print(\"\")\n"
   ],
   "metadata": {
    "collapsed": false,
    "pycharm": {
     "name": "#%%\n"
    }
   }
  },
  {
   "cell_type": "markdown",
   "source": [
    "## 9. Clustering Handover Of Work\n",
    "\n",
    "In diesem Abschnitt werden die unter 8 analysierten Nutzer als Gruppe zusammengefasst, welche häufig miteinander arbeiten. Dies soll die Übersichtlichkeit erhöhen und erste Schlussfolgerungen ermöglichen.\n",
    "\n",
    "Die Analyseergebnisse werden folgendermaßen ausgegeben:\n",
    "\n",
    "1. Cluster\n",
    "2. Benutzerliste\n",
    "3. `Leerzeile`"
   ],
   "metadata": {
    "collapsed": false,
    "pycharm": {
     "name": "#%% md\n"
    }
   }
  },
  {
   "cell_type": "code",
   "execution_count": null,
   "outputs": [],
   "source": [
    "clustering_hw = util.cluster_affinity_propagation(hw_values)\n",
    "for group in clustering_hw:\n",
    "    print(\"Gruppe: \" + group)\n",
    "    print(clustering_hw[group])\n",
    "    print(\"\")"
   ],
   "metadata": {
    "collapsed": false,
    "pycharm": {
     "name": "#%%\n"
    }
   }
  },
  {
   "cell_type": "markdown",
   "source": [
    "## 10. Fazit\n",
    "\n",
    "TEXT TEXT TEXT"
   ],
   "metadata": {
    "collapsed": false,
    "pycharm": {
     "name": "#%% md\n"
    }
   }
  },
  {
   "cell_type": "markdown",
   "source": [],
   "metadata": {
    "collapsed": false,
    "pycharm": {
     "name": "#%% md\n"
    }
   }
  },
  {
   "cell_type": "code",
   "execution_count": null,
   "outputs": [],
   "source": [
    "clustering_sa = util.cluster_affinity_propagation(sa_metric)\n",
    "\n",
    "for group in clustering_sa:\n",
    "    print(\"Gruppe: \" + group)\n",
    "    print(clustering_sa[group])\n",
    "    print(\"\")\n"
   ],
   "metadata": {
    "collapsed": false,
    "pycharm": {
     "name": "#%%\n"
    }
   }
  },
  {
   "cell_type": "markdown",
   "source": [
    "## 9. Clustering Handover Of Work\n",
    "\n",
    "In diesem Abschnitt werden die unter 8 analysierten Nutzer als Gruppe zusammengefasst, welche häufig miteinander arbeiten. Dies soll die Übersichtlichkeit erhöhen und erste Schlussfolgerungen ermöglichen.\n",
    "\n",
    "Die Analyseergebnisse werden folgendermaßen ausgegeben:\n",
    "\n",
    "1. Cluster\n",
    "2. Benutzerliste\n",
    "3. `Leerzeile`"
   ],
   "metadata": {
    "collapsed": false,
    "pycharm": {
     "name": "#%% md\n"
    }
   }
  },
  {
   "cell_type": "code",
   "execution_count": null,
   "outputs": [],
   "source": [
    "clustering_hw = util.cluster_affinity_propagation(hw_values)\n",
    "for group in clustering_hw:\n",
    "    print(\"Gruppe: \" + group)\n",
    "    print(clustering_hw[group])\n",
    "    print(\"\")"
   ],
   "metadata": {
    "collapsed": false,
    "pycharm": {
     "name": "#%%\n"
    }
   }
  },
  {
   "cell_type": "markdown",
   "source": [
    "## 10. Fazit\n",
    "\n",
    "Im Projekt konten wir aus verschiedensten Datensätze auswerten. Dabei konnte man sowohl Guppenpersonen erkennen die regelmäßig die gleichen Aktivitäten machen aber auch Personen die an verschiedenen Stellen in einem Geschäftsprozess arbeiten.\n",
    "Auffällig war aber, dass es auch Geschäftsprozesse gab bei denen alle Beteiligten ein großes Team waren, in solchen Fällen erzeugen die durchgeführten Analysen kein interpretierbares Ergebnis.\n"
   ],
   "metadata": {
    "collapsed": false,
    "pycharm": {
     "name": "#%% md\n"
    }
   }
  },
  {
   "cell_type": "markdown",
   "source": [],
   "metadata": {
    "collapsed": false,
    "pycharm": {
     "name": "#%% md\n"
    }
   }
  },
  {
   "cell_type": "markdown",
   "source": [
    "## 10. Fazit\n",
    "\n",
    "TEXT TEXT TEXT"
   ],
   "metadata": {
    "collapsed": false,
    "pycharm": {
     "name": "#%% md\n"
    }
   }
  },
  {
   "cell_type": "markdown",
   "source": [],
   "metadata": {
    "collapsed": false,
    "pycharm": {
     "name": "#%% md\n"
    }
   }
  },
  {
   "cell_type": "code",
   "execution_count": 8,
   "outputs": [
    {
     "name": "stdout",
     "output_type": "stream",
     "text": [
      "Gruppe: -1\n",
      "['User_1', 'User_10', 'User_100', 'User_101', 'User_102', 'User_103', 'User_104', 'User_105', 'User_106', 'User_107', 'User_108', 'User_109', 'User_11', 'User_110', 'User_111', 'User_112', 'User_113', 'User_114', 'User_115', 'User_116', 'User_117', 'User_118', 'User_119', 'User_12', 'User_120', 'User_121', 'User_122', 'User_123', 'User_124', 'User_125', 'User_126', 'User_127', 'User_128', 'User_129', 'User_13', 'User_130', 'User_131', 'User_132', 'User_133', 'User_134', 'User_135', 'User_136', 'User_137', 'User_138', 'User_139', 'User_14', 'User_140', 'User_141', 'User_142', 'User_143', 'User_144', 'User_15', 'User_16', 'User_17', 'User_18', 'User_19', 'User_2', 'User_20', 'User_21', 'User_22', 'User_23', 'User_24', 'User_25', 'User_26', 'User_27', 'User_28', 'User_29', 'User_3', 'User_30', 'User_31', 'User_32', 'User_33', 'User_34', 'User_35', 'User_36', 'User_37', 'User_38', 'User_39', 'User_4', 'User_40', 'User_41', 'User_42', 'User_43', 'User_44', 'User_45', 'User_46', 'User_47', 'User_48', 'User_49', 'User_5', 'User_50', 'User_51', 'User_52', 'User_53', 'User_54', 'User_55', 'User_56', 'User_57', 'User_58', 'User_59', 'User_6', 'User_60', 'User_61', 'User_62', 'User_63', 'User_64', 'User_65', 'User_66', 'User_67', 'User_68', 'User_69', 'User_7', 'User_70', 'User_71', 'User_72', 'User_73', 'User_74', 'User_75', 'User_76', 'User_77', 'User_78', 'User_79', 'User_8', 'User_80', 'User_81', 'User_82', 'User_83', 'User_84', 'User_85', 'User_86', 'User_87', 'User_88', 'User_89', 'User_9', 'User_90', 'User_91', 'User_92', 'User_93', 'User_94', 'User_95', 'User_96', 'User_97', 'User_98', 'User_99']\n",
      "\n"
     ]
    },
    {
     "name": "stderr",
     "output_type": "stream",
     "text": [
      "/Users/moritzwetzel/PycharmProjects/PraxisModul1_PM4PY/venv/lib/python3.10/site-packages/sklearn/cluster/_affinity_propagation.py:250: ConvergenceWarning: Affinity propagation did not converge, this model will not have any cluster centers.\n",
      "  warnings.warn(\n",
      "/Users/moritzwetzel/PycharmProjects/PraxisModul1_PM4PY/venv/lib/python3.10/site-packages/sklearn/cluster/_affinity_propagation.py:528: ConvergenceWarning: This model does not have any cluster centers because affinity propagation did not converge. Labeling every sample as '-1'.\n",
      "  warnings.warn(\n"
     ]
    }
   ],
   "source": [
    "clustering_sa = util.cluster_affinity_propagation(sa_metric)\n",
    "\n",
    "for group in clustering_sa:\n",
    "    print(\"Gruppe: \" + group)\n",
    "    print(clustering_sa[group])\n",
    "    print(\"\")\n"
   ],
   "metadata": {
    "collapsed": false,
    "pycharm": {
     "name": "#%%\n"
    }
   }
  },
  {
   "cell_type": "markdown",
   "metadata": {
    "pycharm": {
     "name": "#%% md\n"
    }
   },
   "source": [
    "## 9. Clustering Handover Of Work\n",
    "\n",
    "In diesem Abschnitt werden die unter 8 analysierten Nutzer als Gruppe zusammengefasst, welche häufig miteinander arbeiten. Dies soll die Übersichtlichkeit erhöhen und erste Schlussfolgerungen ermöglichen.\n",
    "\n",
    "Die Analyseergebnisse werden folgendermaßen ausgegeben:\n",
    "\n",
    "1. Cluster\n",
    "2. Benutzerliste\n",
    "3. `Leerzeile`"
   ]
  },
  {
   "cell_type": "code",
   "execution_count": 9,
   "outputs": [
    {
     "name": "stdout",
     "output_type": "stream",
     "text": [
      "Gruppe: 4\n",
      "['User_1', 'User_100', 'User_101', 'User_102', 'User_103', 'User_104', 'User_105', 'User_106', 'User_107', 'User_108', 'User_109', 'User_110', 'User_111', 'User_114', 'User_115', 'User_124', 'User_125', 'User_127', 'User_128', 'User_129', 'User_13', 'User_130', 'User_131', 'User_132', 'User_133', 'User_134', 'User_135', 'User_136', 'User_137', 'User_138', 'User_139', 'User_140', 'User_141', 'User_142', 'User_143', 'User_144', 'User_20', 'User_22', 'User_23', 'User_25', 'User_26', 'User_29', 'User_30', 'User_31', 'User_33', 'User_34', 'User_43', 'User_45', 'User_47', 'User_50', 'User_54', 'User_55', 'User_58', 'User_59', 'User_6', 'User_62', 'User_63', 'User_64', 'User_65', 'User_66', 'User_68', 'User_69', 'User_70', 'User_72', 'User_73', 'User_74', 'User_75', 'User_76', 'User_77', 'User_79', 'User_8', 'User_80', 'User_81', 'User_82', 'User_83', 'User_84', 'User_85', 'User_86', 'User_87', 'User_88', 'User_89', 'User_9', 'User_90', 'User_91', 'User_92', 'User_93', 'User_94', 'User_95', 'User_96', 'User_97', 'User_98', 'User_99']\n",
      "\n",
      "Gruppe: 0\n",
      "['User_10']\n",
      "\n",
      "Gruppe: 1\n",
      "['User_11']\n",
      "\n",
      "Gruppe: 2\n",
      "['User_112', 'User_113', 'User_116', 'User_117', 'User_118', 'User_119', 'User_120', 'User_121', 'User_122', 'User_123', 'User_126']\n",
      "\n",
      "Gruppe: 3\n",
      "['User_12']\n",
      "\n",
      "Gruppe: 5\n",
      "['User_14']\n",
      "\n",
      "Gruppe: 6\n",
      "['User_15']\n",
      "\n",
      "Gruppe: 7\n",
      "['User_16']\n",
      "\n",
      "Gruppe: 8\n",
      "['User_17']\n",
      "\n",
      "Gruppe: 9\n",
      "['User_18']\n",
      "\n",
      "Gruppe: 10\n",
      "['User_19']\n",
      "\n",
      "Gruppe: 11\n",
      "['User_2']\n",
      "\n",
      "Gruppe: 12\n",
      "['User_21']\n",
      "\n",
      "Gruppe: 13\n",
      "['User_24']\n",
      "\n",
      "Gruppe: 14\n",
      "['User_27']\n",
      "\n",
      "Gruppe: 15\n",
      "['User_28']\n",
      "\n",
      "Gruppe: 16\n",
      "['User_3']\n",
      "\n",
      "Gruppe: 17\n",
      "['User_32']\n",
      "\n",
      "Gruppe: 18\n",
      "['User_35']\n",
      "\n",
      "Gruppe: 19\n",
      "['User_36']\n",
      "\n",
      "Gruppe: 20\n",
      "['User_37']\n",
      "\n",
      "Gruppe: 21\n",
      "['User_38']\n",
      "\n",
      "Gruppe: 22\n",
      "['User_39']\n",
      "\n",
      "Gruppe: 23\n",
      "['User_4']\n",
      "\n",
      "Gruppe: 24\n",
      "['User_40']\n",
      "\n",
      "Gruppe: 25\n",
      "['User_41']\n",
      "\n",
      "Gruppe: 26\n",
      "['User_42']\n",
      "\n",
      "Gruppe: 27\n",
      "['User_44']\n",
      "\n",
      "Gruppe: 28\n",
      "['User_46']\n",
      "\n",
      "Gruppe: 29\n",
      "['User_48']\n",
      "\n",
      "Gruppe: 30\n",
      "['User_49']\n",
      "\n",
      "Gruppe: 31\n",
      "['User_5']\n",
      "\n",
      "Gruppe: 32\n",
      "['User_51']\n",
      "\n",
      "Gruppe: 33\n",
      "['User_52']\n",
      "\n",
      "Gruppe: 34\n",
      "['User_53']\n",
      "\n",
      "Gruppe: 35\n",
      "['User_56']\n",
      "\n",
      "Gruppe: 36\n",
      "['User_57']\n",
      "\n",
      "Gruppe: 37\n",
      "['User_60']\n",
      "\n",
      "Gruppe: 38\n",
      "['User_61']\n",
      "\n",
      "Gruppe: 39\n",
      "['User_67']\n",
      "\n",
      "Gruppe: 40\n",
      "['User_7']\n",
      "\n",
      "Gruppe: 41\n",
      "['User_71']\n",
      "\n",
      "Gruppe: 42\n",
      "['User_78']\n",
      "\n"
     ]
    }
   ],
   "source": [
    "clustering_hw = util.cluster_affinity_propagation(hw_values)\n",
    "for group in clustering_hw:\n",
    "    print(\"Gruppe: \" + group)\n",
    "    print(clustering_hw[group])\n",
    "    print(\"\")"
   ],
   "metadata": {
    "collapsed": false,
    "pycharm": {
     "name": "#%%\n"
    }
   }
  },
  {
   "cell_type": "markdown",
   "source": [
    "## 10. Fazit\n",
    "\n",
    "TEXT TEXT TEXT"
   ],
   "metadata": {
    "collapsed": false,
    "pycharm": {
     "name": "#%% md\n"
    }
   }
  },
  {
   "cell_type": "markdown",
   "source": [],
   "metadata": {
    "collapsed": false,
    "pycharm": {
     "name": "#%% md\n"
    }
   }
  }
 ],
 "metadata": {
  "kernelspec": {
   "display_name": "Python 3 (ipykernel)",
   "language": "python",
   "name": "python3"
  },
  "language_info": {
   "codemirror_mode": {
    "name": "ipython",
    "version": 3
   },
   "file_extension": ".py",
   "mimetype": "text/x-python",
   "name": "python",
   "nbconvert_exporter": "python",
   "pygments_lexer": "ipython3",
   "version": "3.10.0"
  }
 },
 "nbformat": 4,
 "nbformat_minor": 1
}