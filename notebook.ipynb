{
 "cells": [
  {
   "cell_type": "markdown",
   "metadata": {},
   "source": [
    "[Markdown Guide](https://docs.gitlab.com/ee/user/markdown.html)"
   ]
  },
  {
   "cell_type": "markdown",
   "metadata": {},
   "source": [
    "# Configuration\n",
    "\n",
    "| variable | type | description|\n",
    "|:--|:--|:--|\n",
    "|log_path | (path)| path to the XES File|\n",
    "|use_networkx | (bool)| output via NetworkX or Pyvis|\n",
    "|filter_timeframe | (bool)| filter the timeframe of the traces|\n",
    "|filter_timeframe_intersecting | (bool)| use intersecting or contained|\n",
    "|filter_timeframe_start | (dateTime)| start of the Timeframe|\n",
    "|filter_timeframe_end | (dateTime)| end of the Timeframe|\n",
    "|filter_performance| (bool)| filter on Traceperformance|\n",
    "|filter_performance_min| (int)| minimum seconds of trace actions|\n",
    "|filter_performance_max |(int)| maximum seconds of trace actions|"
   ]
  },
  {
   "cell_type": "code",
   "execution_count": 1,
   "metadata": {
    "pycharm": {
     "name": "#%%\n"
    }
   },
   "outputs": [],
   "source": [
    "log_path = 'data/BPI_Challenge_2017_Offer_log.xes'\n",
    "\n",
    "use_networkx = True\n",
    "\n",
    "filter_timeframe = True\n",
    "filter_timeframe_intersecting  = False\n",
    "filter_timeframe_start = \"2011-03-09 00:00:00\"\n",
    "filter_timeframe_end = \"2011-03-09 00:00:00\"\n",
    "\n",
    "filter_performance = False\n",
    "filter_performance_min = 0\n",
    "filter_performance_max = 864000"
   ]
  },
  {
   "cell_type": "markdown",
   "metadata": {},
   "source": [
    "Import libs used in the notebook"
   ]
  },
  {
   "cell_type": "code",
   "execution_count": 2,
   "metadata": {
    "pycharm": {
     "name": "#%%\n"
    }
   },
   "outputs": [],
   "source": [
    "import shutil\n",
    "from pm4py.objects.log.importer.xes import importer as xes_importer\n",
    "\n",
    "from pm4py.algo.organizational_mining.sna import algorithm as sna\n",
    "from pm4py.visualization.sna import visualizer as sna_visualizer\n",
    "from pm4py.algo.organizational_mining.roles import algorithm as roles_discovery\n",
    "from pm4py.algo.organizational_mining.sna import util\n",
    "from pm4py.algo.filtering.log.timestamp import timestamp_filter\n",
    "from pm4py.algo.filtering.log.cases import case_filter\n",
    "import pm4py\n",
    "import os\n",
    "from pm4py.algo.organizational_mining.local_diagnostics import algorithm as local_diagnostics"
   ]
  },
  {
   "cell_type": "markdown",
   "metadata": {},
   "source": [
    "Allgemeiner Importskript\n",
    "inclusive filtering"
   ]
  },
  {
   "cell_type": "code",
   "execution_count": 3,
   "metadata": {
    "pycharm": {
     "name": "#%%\n"
    }
   },
   "outputs": [
    {
     "ename": "SyntaxError",
     "evalue": "invalid syntax. Maybe you meant '==' or ':=' instead of '='? (2453384756.py, line 4)",
     "output_type": "error",
     "traceback": [
      "\u001B[1;36m  Input \u001B[1;32mIn [3]\u001B[1;36m\u001B[0m\n\u001B[1;33m    if(filter_timeframe_intersecting = False):\u001B[0m\n\u001B[1;37m       ^\u001B[0m\n\u001B[1;31mSyntaxError\u001B[0m\u001B[1;31m:\u001B[0m invalid syntax. Maybe you meant '==' or ':=' instead of '='?\n"
     ]
    }
   ],
   "source": [
    "log = xes_importer.apply(log_path)\n",
    "\n",
    "if filter_timeframe:\n",
    "    if not filter_timeframe_intersecting:\n",
    "        log = timestamp_filter.filter_traces_contained(   log, filter_timeframe_start, filter_timeframe_end)\n",
    "    else:\n",
    "        log = timestamp_filter.filter_traces_intersecting(log, filter_timeframe_start, filter_timeframe_end)\n",
    "\n",
    "if filter_performance:\n",
    "    log = case_filter.filter_case_performance(log, filter_performance_min, filter_performance_max)"
   ]
  },
  {
   "cell_type": "markdown",
   "metadata": {},
   "source": [
    "**Similar Activities**\n",
    "Berechtet wie ähnlich die aktivitäten der Benutzer sind\n",
    "\n",
    "Ergebnis: result/similar_activities.html"
   ]
  },
  {
   "cell_type": "code",
   "execution_count": null,
   "metadata": {
    "pycharm": {
     "name": "#%%\n"
    }
   },
   "outputs": [],
   "source": [
    "sa_metric  = sna.apply(log, variant=sna.Variants.JOINTACTIVITIES_LOG)\n",
    "\n",
    "if use_networkx:\n",
    "    gviz_ja_py = sna_visualizer.apply(sa_metric , variant=sna_visualizer.Variants.NETWORKX)\n",
    "    sna_visualizer.view(gviz_ja_py, variant=sna_visualizer.Variants.NETWORKX)\n",
    "else:\n",
    "    gviz_ja_py = sna_visualizer.apply(sa_metric , variant=sna_visualizer.Variants.PYVIS)\n",
    "    shutil.move(gviz_ja_py, \"result/similar_activities.html\")"
   ]
  },
  {
   "cell_type": "markdown",
   "metadata": {},
   "source": [
    "Discover Roles"
   ]
  },
  {
   "cell_type": "code",
   "execution_count": null,
   "metadata": {
    "pycharm": {
     "name": "#%%\n"
    }
   },
   "outputs": [],
   "source": [
    "roles = roles_discovery.apply(log)\n",
    "print([x for x in roles])"
   ]
  },
  {
   "cell_type": "markdown",
   "metadata": {},
   "source": [
    "Handover of Work"
   ]
  },
  {
   "cell_type": "code",
   "execution_count": null,
   "metadata": {
    "pycharm": {
     "name": "#%%\n"
    }
   },
   "outputs": [],
   "source": [
    "hw_values = sna.apply(log, variant=sna.Variants.HANDOVER_LOG)\n",
    "\n",
    "if use_networkx:\n",
    "    gviz_hw_py = sna_visualizer.apply(hw_values, variant=sna_visualizer.Variants.NETWORKX)\n",
    "    sna_visualizer.view(gviz_hw_py, variant=sna_visualizer.Variants.NETWORKX)\n",
    "else:\n",
    "    gviz_hw_py = sna_visualizer.apply(sa_metric , variant=sna_visualizer.Variants.PYVIS)\n",
    "    shutil.move(gviz_hw_py, \"result/handover_of_work.html\")"
   ]
  },
  {
   "cell_type": "markdown",
   "metadata": {},
   "source": [
    "CLuster Similar Activities into groups\n",
    "Clustering the results of the similar activities metric, individuals that work on the same tasks would be inserted in the same group."
   ]
  },
  {
   "cell_type": "code",
   "execution_count": null,
   "metadata": {
    "pycharm": {
     "name": "#%%\n"
    }
   },
   "outputs": [],
   "source": [
    "clustering_sa = util.cluster_affinity_propagation(sa_metric)\n",
    "print(clustering_sa)"
   ]
  },
  {
   "cell_type": "markdown",
   "metadata": {},
   "source": [
    "Clustering the results of the working together metric, individuals that work often together would be inserted in the same group."
   ]
  },
  {
   "cell_type": "code",
   "execution_count": null,
   "metadata": {
    "pycharm": {
     "name": "#%%\n"
    }
   },
   "outputs": [],
   "source": [
    "clustering_sa = util.cluster_affinity_propagation(hw_values)\n",
    "print(clustering_sa)"
   ]
  },
  {
   "cell_type": "code",
   "execution_count": null,
   "metadata": {
    "pycharm": {
     "name": "#%%\n"
    }
   },
   "outputs": [],
   "source": [
    "# this applies the organizational mining from an attribute that is in each event, describing the group that is performing the task.\n",
    "ld = local_diagnostics.apply_from_group_attribute(log)\n",
    "# GROUP RELATIVE FOCUS (on a given type of work) specifies how much a resource group performed this type of work\n",
    "# compared to the overall workload of the group. It can be used to measure how the workload of a resource group\n",
    "# is distributed over different types of work, i.e., work diversification of the group.\n",
    "print(\"\\ngroup_relative_focus\")\n",
    "print(ld[\"group_relative_focus\"])\n",
    "# GROUP RELATIVE STAKE (in a given type of work) specifies how much this type of work was performed by a certain\n",
    "# resource group among all groups. It can be used to measure how the workload devoted to a certain type of work is\n",
    "# distributed over resource groups in an organizational model, i.e., work participation by different groups.\n",
    "print(\"\\ngroup_relative_stake\")\n",
    "print(ld[\"group_relative_stake\"])\n",
    "# GROUP COVERAGE with respect to a given type of work specifies the proportion of members of a resource group that\n",
    "# performed this type of work.\n",
    "print(\"\\ngroup_coverage\")\n",
    "print(ld[\"group_coverage\"])\n",
    "# GROUP MEMBER CONTRIBUTION of a member of a resource group with respect to the given type of work specifies how\n",
    "# much of this type of work by the group was performed by the member. It can be used to measure how the workload\n",
    "# of the entire group devoted to a certain type of work is distributed over the group members.\n",
    "print(\"\\ngroup_member_contribution\")\n",
    "print(ld[\"group_member_contribution\"])"
   ]
  }
 ],
 "metadata": {
  "kernelspec": {
   "display_name": "Python 3 (ipykernel)",
   "language": "python",
   "name": "python3"
  },
  "language_info": {
   "codemirror_mode": {
    "name": "ipython",
    "version": 3
   },
   "file_extension": ".py",
   "mimetype": "text/x-python",
   "name": "python",
   "nbconvert_exporter": "python",
   "pygments_lexer": "ipython3",
   "version": "3.10.0"
  }
 },
 "nbformat": 4,
 "nbformat_minor": 1
}